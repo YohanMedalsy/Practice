{
 "cells": [
  {
   "cell_type": "markdown",
   "metadata": {},
   "source": [
    "# # Ex: extracting background from static camera's video using SVD\n",
    "\n",
    "First, import the required libraries."
   ]
  },
  {
   "cell_type": "code",
   "execution_count": 1,
   "metadata": {
    "ExecuteTime": {
     "end_time": "2019-07-23T13:31:57.183789Z",
     "start_time": "2019-07-23T13:31:55.627659Z"
    }
   },
   "outputs": [],
   "source": [
    "#numpy enables numeric calculations: we'll use it for SVD, vectors, matrices.\n",
    "import numpy as np\n",
    "#cv2 is opencv2 api (cv stands for computer vision)\n",
    "import cv2\n",
    "\n",
    "#this one will enable the plot function\n",
    "import matplotlib.pyplot as plt\n",
    "import scipy.linalg as la"
   ]
  },
  {
   "cell_type": "markdown",
   "metadata": {},
   "source": [
    "Second, set the right base dir and query details about the video. Check the output to make sure\n",
    "the details make sense."
   ]
  },
  {
   "cell_type": "code",
   "execution_count": 2,
   "metadata": {
    "ExecuteTime": {
     "end_time": "2019-07-23T13:31:57.384467Z",
     "start_time": "2019-07-23T13:31:57.231128Z"
    }
   },
   "outputs": [
    {
     "name": "stdout",
     "output_type": "stream",
     "text": [
      "192 x 144 , 158  frames,  codec= 1145656920\n"
     ]
    }
   ],
   "source": [
    "#set base dir\n",
    "#set filename\n",
    "cap = cv2.VideoCapture('shop.avi')\n",
    "\n",
    "#use opencv2 API to query movie info\n",
    "\n",
    "#movie width,height in pixels, length in frames and encoded format.\n",
    "fw = int(cap.get(cv2.CAP_PROP_FRAME_WIDTH))\n",
    "fh = int(cap.get(cv2.CAP_PROP_FRAME_HEIGHT))\n",
    "len_ = int(cap.get(cv2.CAP_PROP_FRAME_COUNT))\n",
    "fps = int(cap.get(cv2.CAP_PROP_FPS))\n",
    "ccodec = int(cap.get(cv2.CAP_PROP_FOURCC))\n",
    "print (fw,'x',fh, ',', len_,' frames,',' codec=',ccodec)"
   ]
  },
  {
   "cell_type": "markdown",
   "metadata": {},
   "source": [
    "Now we'll read the video frame by frame: \n",
    "    -convert it to 8bpp instead of the current RGB 24bpp.\n",
    "    -change shape of i'th frame to vector(\"flatten\"), and copy into the i'th row of target matrix \"mat\".\n",
    "    \n",
    "    \n"
   ]
  },
  {
   "cell_type": "code",
   "execution_count": 3,
   "metadata": {
    "ExecuteTime": {
     "end_time": "2019-07-23T13:32:00.315695Z",
     "start_time": "2019-07-23T13:32:00.210427Z"
    }
   },
   "outputs": [
    {
     "name": "stdout",
     "output_type": "stream",
     "text": [
      "ok\n"
     ]
    }
   ],
   "source": [
    "#the matrix which i'th row will be the i'th frame, flatted to vector.\n",
    "mat = np.zeros((len_, fh*fw), dtype=int)\n",
    "\n",
    "i = 0\n",
    "while cap.isOpened():\n",
    "    ret, frame = cap.read()\n",
    "    if(ret == True):\n",
    "        #show frame and wait 50ms \n",
    "#         cv2.imshow('frame',frame)\n",
    "#         cv2.waitKey(50)\n",
    "        \n",
    "        \n",
    "        #convert to gray and flatten the frame to vector\n",
    "        gray_scale = cv2.cvtColor(frame, cv2.COLOR_BGR2GRAY)\n",
    "        if i%3 == 0:\n",
    "            mat[i//3] = gray_scale.flatten()\n",
    "        #advance frame count\n",
    "        i=i+1\n",
    "    else:\n",
    "        cap.release()\n",
    "print('ok')"
   ]
  },
  {
   "cell_type": "markdown",
   "metadata": {},
   "source": [
    "Next, decompose \"mat\" using SVD to u,d,v, zeroise all but the first singular value and reconstruct the matrix u@d@v ('@' is the matrix multipliclation sign. '*' is the pointwise multiplication sign)."
   ]
  },
  {
   "cell_type": "code",
   "execution_count": 4,
   "metadata": {
    "ExecuteTime": {
     "end_time": "2019-07-23T13:32:04.385515Z",
     "start_time": "2019-07-23T13:32:02.897997Z"
    }
   },
   "outputs": [
    {
     "name": "stdout",
     "output_type": "stream",
     "text": [
      "[177815.96319569   8238.41669041   7460.26434762   5587.87086468\n",
      "   5136.91833453   5078.49227088   4595.11638145   4272.50742103\n",
      "   3975.87786855   3919.65968674]\n"
     ]
    },
    {
     "data": {
      "image/png": "[encoded data removed]",
      "text/plain": [
       "<Figure size 432x288 with 1 Axes>"
      ]
     },
     "metadata": {
      "needs_background": "light"
     },
     "output_type": "display_data"
    }
   ],
   "source": [
    "#call svd. Notive that the matrix size is huge, maybe there is a way to save memory. Go through SVD flags.\n",
    "\n",
    "u,d,v = la.svd(mat, full_matrices=False)\n",
    "#lets see what we got\n",
    "plt.plot(d)\n",
    "plt.axis([0,60,0,100])\n",
    "print(d[0:10])\n",
    "\n",
    "#clear sv's, reconstruct matrix...\n",
    "d[1:] = 0\n",
    "mat2 = u@np.diag(d)@v"
   ]
  },
  {
   "cell_type": "markdown",
   "metadata": {},
   "source": [
    "write the output to file."
   ]
  },
  {
   "cell_type": "code",
   "execution_count": 5,
   "metadata": {
    "ExecuteTime": {
     "end_time": "2019-07-23T13:32:04.496283Z",
     "start_time": "2019-07-23T13:32:04.490500Z"
    }
   },
   "outputs": [
    {
     "name": "stdout",
     "output_type": "stream",
     "text": [
      "(158, 27648)\n"
     ]
    }
   ],
   "source": [
    "print(mat2.shape)"
   ]
  },
  {
   "cell_type": "code",
   "execution_count": 6,
   "metadata": {
    "ExecuteTime": {
     "end_time": "2019-07-23T13:32:04.752898Z",
     "start_time": "2019-07-23T13:32:04.619810Z"
    }
   },
   "outputs": [
    {
     "name": "stdout",
     "output_type": "stream",
     "text": [
      "ok\n"
     ]
    }
   ],
   "source": [
    "#A format to write. Might need to change here, depends on available codecs.\n",
    "my_video = cv2.VideoWriter('output.avi', ccodec, fps, (fw, fh), isColor=False)\n",
    "for my_frame in mat2:\n",
    "    my_video.write(np.uint8(my_frame.reshape(fh, fw)))\n",
    "my_video.release()\n",
    "print('ok')"
   ]
  },
  {
   "cell_type": "markdown",
   "metadata": {},
   "source": [
    "read the output and show it on screen."
   ]
  },
  {
   "cell_type": "code",
   "execution_count": 7,
   "metadata": {
    "ExecuteTime": {
     "end_time": "2019-07-23T13:32:16.237115Z",
     "start_time": "2019-07-23T13:32:05.139399Z"
    }
   },
   "outputs": [
    {
     "name": "stdout",
     "output_type": "stream",
     "text": [
      "ok\n"
     ]
    }
   ],
   "source": [
    "#show output\n",
    "cap = cv2.VideoCapture('output.avi')\n",
    "while cap.isOpened():\n",
    "    ret, frame = cap.read()\n",
    "    if(ret):\n",
    "        cv2.imshow('frame',frame)\n",
    "        #play at ~20fps, by waiting 50ms between \"shows\".\n",
    "        cv2.waitKey(50)\n",
    "    else:\n",
    "        break\n",
    "print('ok')"
   ]
  },
  {
   "cell_type": "markdown",
   "metadata": {},
   "source": [
    "Clean up."
   ]
  },
  {
   "cell_type": "code",
   "execution_count": null,
   "metadata": {
    "ExecuteTime": {
     "end_time": "2019-07-20T08:26:52.484043Z",
     "start_time": "2019-07-20T08:26:45.070Z"
    }
   },
   "outputs": [],
   "source": [
    "cap.release()\n",
    "cv2.destroyAllWindows()"
   ]
  }
 ],
 "metadata": {
  "kernelspec": {
   "display_name": "Python 3",
   "language": "python",
   "name": "python3"
  },
  "language_info": {
   "codemirror_mode": {
    "name": "ipython",
    "version": 3
   },
   "file_extension": ".py",
   "mimetype": "text/x-python",
   "name": "python",
   "nbconvert_exporter": "python",
   "pygments_lexer": "ipython3",
   "version": "3.7.3"
  },
  "nbTranslate": {
   "displayLangs": [
    "*"
   ],
   "hotkey": "alt-t",
   "langInMainMenu": true,
   "sourceLang": "en",
   "targetLang": "fr",
   "useGoogleTranslate": true
  },
  "toc": {
   "base_numbering": 1,
   "nav_menu": {},
   "number_sections": true,
   "sideBar": true,
   "skip_h1_title": false,
   "title_cell": "Table of Contents",
   "title_sidebar": "Contents",
   "toc_cell": false,
   "toc_position": {},
   "toc_section_display": true,
   "toc_window_display": false
  },
  "varInspector": {
   "cols": {
    "lenName": 16,
    "lenType": 16,
    "lenVar": 40
   },
   "kernels_config": {
    "python": {
     "delete_cmd_postfix": "",
     "delete_cmd_prefix": "del ",
     "library": "var_list.py",
     "varRefreshCmd": "print(var_dic_list())"
    },
    "r": {
     "delete_cmd_postfix": ") ",
     "delete_cmd_prefix": "rm(",
     "library": "var_list.r",
     "varRefreshCmd": "cat(var_dic_list()) "
    }
   },
   "types_to_exclude": [
    "module",
    "function",
    "builtin_function_or_method",
    "instance",
    "_Feature"
   ],
   "window_display": false
  }
 },
 "nbformat": 4,
 "nbformat_minor": 2
}
