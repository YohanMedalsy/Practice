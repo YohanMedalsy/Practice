{
 "cells": [
  {
   "cell_type": "markdown",
   "metadata": {},
   "source": [
    "# Word2Vec Introduction\n",
    "In this Notebook we will introduce the Word2Vec Algorithm and train our own model using a public dataset of tweets.\n",
    "Throughout this lesson we will be using the following libraries:\n",
    "1. pandas: https://pandas.pydata.org/pandas-docs/stable/\n",
    "2. numpy: https://docs.scipy.org/doc/numpy-1.14.0/index.html\n",
    "3. nltk: https://www.nltk.org/\n",
    "4. gensim: https://radimrehurek.com/gensim/"
   ]
  },
  {
   "cell_type": "code",
   "execution_count": 1,
   "metadata": {
    "ExecuteTime": {
     "end_time": "2019-08-07T11:11:12.303598Z",
     "start_time": "2019-08-07T11:11:02.270123Z"
    }
   },
   "outputs": [],
   "source": [
    "import pandas as pd\n",
    "import numpy as np\n",
    "import gensim as gen\n",
    "\n",
    "from matplotlib import pyplot as plt\n",
    "\n",
    "from nltk.tokenize import RegexpTokenizer"
   ]
  },
  {
   "cell_type": "markdown",
   "metadata": {},
   "source": [
    "## Google News Word2Vec\n",
    "Let's get to know gensim. To do so, we will load a pretrained model trained on Google News Corpus. These are publicly available vectors for unigrams, bigrams and trigrams trained on the english language. Download the corpus from: https://drive.google.com/file/d/0B7XkCwpI5KDYNlNUTTlSS21pQmM/"
   ]
  },
  {
   "cell_type": "code",
   "execution_count": 2,
   "metadata": {
    "ExecuteTime": {
     "end_time": "2019-08-07T11:14:54.761215Z",
     "start_time": "2019-08-07T11:11:16.790451Z"
    }
   },
   "outputs": [],
   "source": [
    "model = gen.models.KeyedVectors.load_word2vec_format('GoogleNews-vectors-negative300.bin.gz',binary=True)"
   ]
  },
  {
   "cell_type": "markdown",
   "metadata": {},
   "source": [
    "Notice we've loaded a **KeyedVectors** object to the variable **model**. The KeyedVectors object for mapping between words and vectors of the Word2Vec model. It is used to perform operations on the vectors such as vector lookup, distance, similarity etc.\n",
    "1. Check if the word **\"check\"** is in the vocabulary (Look at the properties of **model** and find how to access the vocabulary)\n",
    "2. How many words (including bigrams and trigrams) are available in the vocabulary of this model?\n",
    "3. What is the shape of each vector?"
   ]
  },
  {
   "cell_type": "code",
   "execution_count": 3,
   "metadata": {
    "ExecuteTime": {
     "end_time": "2019-08-07T11:17:01.846380Z",
     "start_time": "2019-08-07T11:17:01.737949Z"
    }
   },
   "outputs": [
    {
     "name": "stderr",
     "output_type": "stream",
     "text": [
      "/Users/Yohan/Desktop/anaconda3/lib/python3.7/site-packages/ipykernel_launcher.py:1: DeprecationWarning: Call to deprecated `wv` (Attribute will be removed in 4.0.0, use self instead).\n",
      "  \"\"\"Entry point for launching an IPython kernel.\n"
     ]
    }
   ],
   "source": [
    "word_vectors = model.wv"
   ]
  },
  {
   "cell_type": "code",
   "execution_count": 4,
   "metadata": {
    "ExecuteTime": {
     "end_time": "2019-08-07T11:17:05.055763Z",
     "start_time": "2019-08-07T11:17:05.048611Z"
    }
   },
   "outputs": [],
   "source": [
    "vocab = word_vectors.vocab"
   ]
  },
  {
   "cell_type": "code",
   "execution_count": 5,
   "metadata": {
    "ExecuteTime": {
     "end_time": "2019-08-07T11:17:12.134207Z",
     "start_time": "2019-08-07T11:17:12.102387Z"
    }
   },
   "outputs": [
    {
     "data": {
      "text/plain": [
       "True"
      ]
     },
     "execution_count": 5,
     "metadata": {},
     "output_type": "execute_result"
    }
   ],
   "source": [
    "'check' in vocab"
   ]
  },
  {
   "cell_type": "code",
   "execution_count": 6,
   "metadata": {
    "ExecuteTime": {
     "end_time": "2019-08-07T11:17:18.441617Z",
     "start_time": "2019-08-07T11:17:18.387055Z"
    }
   },
   "outputs": [
    {
     "data": {
      "text/plain": [
       "(300,)"
      ]
     },
     "execution_count": 6,
     "metadata": {},
     "output_type": "execute_result"
    }
   ],
   "source": [
    "word_vectors['check'].shape"
   ]
  },
  {
   "cell_type": "markdown",
   "metadata": {},
   "source": [
    "Find the 20 most similar words to a **WORD** of your choice, check the gensim documentation for the correct function to use"
   ]
  },
  {
   "cell_type": "code",
   "execution_count": 7,
   "metadata": {
    "ExecuteTime": {
     "end_time": "2019-08-07T11:30:25.847344Z",
     "start_time": "2019-08-07T11:17:46.216110Z"
    }
   },
   "outputs": [
    {
     "data": {
      "text/plain": [
       "[('hi', 0.6548984050750732),\n",
       " ('goodbye', 0.639905571937561),\n",
       " ('howdy', 0.6310957074165344),\n",
       " ('goodnight', 0.5920578241348267),\n",
       " ('greeting', 0.5855877995491028),\n",
       " ('Hello', 0.5842196941375732),\n",
       " (\"g'day\", 0.5754078030586243),\n",
       " ('See_ya', 0.5688872337341309),\n",
       " ('ya_doin', 0.5643120408058167),\n",
       " ('greet', 0.5636603832244873),\n",
       " ('hullo', 0.5621640086174011),\n",
       " ('hellos', 0.5596432685852051),\n",
       " ('Hey', 0.5594545602798462),\n",
       " ('bye_bye', 0.5593388676643372),\n",
       " ('bonjour', 0.5587834715843201),\n",
       " ('adios', 0.5560759902000427),\n",
       " ('ciao', 0.5548771619796753),\n",
       " ('hug', 0.5544619560241699),\n",
       " ('buh_bye', 0.5511860847473145),\n",
       " (\"G'day\", 0.5494420528411865)]"
      ]
     },
     "execution_count": 7,
     "metadata": {},
     "output_type": "execute_result"
    }
   ],
   "source": [
    "WORD = 'hello'\n",
    "model.most_similar(WORD,topn = 20)"
   ]
  },
  {
   "cell_type": "markdown",
   "metadata": {},
   "source": [
    "Compute the famous **KING - WOMEN + MEN = ?** equation, see if you can find similar relationships."
   ]
  },
  {
   "cell_type": "code",
   "execution_count": 8,
   "metadata": {
    "ExecuteTime": {
     "end_time": "2019-08-07T11:38:25.655451Z",
     "start_time": "2019-08-07T11:36:52.583813Z"
    }
   },
   "outputs": [
    {
     "data": {
      "text/plain": [
       "[('queen', 0.6525817513465881),\n",
       " ('monarch', 0.5959681868553162),\n",
       " ('crown_prince', 0.532433807849884)]"
      ]
     },
     "execution_count": 8,
     "metadata": {},
     "output_type": "execute_result"
    }
   ],
   "source": [
    "model.most_similar(positive = ['king', 'women'], negative = ['men'], topn = 3)"
   ]
  },
  {
   "cell_type": "markdown",
   "metadata": {},
   "source": [
    "Try out the following function"
   ]
  },
  {
   "cell_type": "code",
   "execution_count": 9,
   "metadata": {
    "ExecuteTime": {
     "end_time": "2019-08-07T11:39:54.107872Z",
     "start_time": "2019-08-07T11:39:53.731477Z"
    }
   },
   "outputs": [
    {
     "name": "stderr",
     "output_type": "stream",
     "text": [
      "/Users/Yohan/Desktop/anaconda3/lib/python3.7/site-packages/ipykernel_launcher.py:1: DeprecationWarning: Call to deprecated `wv` (Attribute will be removed in 4.0.0, use self instead).\n",
      "  \"\"\"Entry point for launching an IPython kernel.\n",
      "/Users/Yohan/Desktop/anaconda3/lib/python3.7/site-packages/gensim/models/keyedvectors.py:877: FutureWarning: arrays to stack must be passed as a \"sequence\" type such as list or tuple. Support for non-sequence iterables such as generators is deprecated as of NumPy 1.16 and will raise an error in the future.\n",
      "  vectors = vstack(self.word_vec(word, use_norm=True) for word in used_words).astype(REAL)\n"
     ]
    },
    {
     "data": {
      "text/plain": [
       "'cereal'"
      ]
     },
     "execution_count": 9,
     "metadata": {},
     "output_type": "execute_result"
    }
   ],
   "source": [
    "model.wv.doesnt_match(\"breakfast cereal dinner lunch\".split())"
   ]
  },
  {
   "cell_type": "markdown",
   "metadata": {},
   "source": [
    "A great method for visualizing higher dimensions is T-SNE (t-Distributed Stochastic Neighbor Embedding), the following block allows you visualize the relationships between the words king, queen, men and women using TSNE. Note that **king** and **men** are positioned in similar vector as **queen** and **women**. Keep in mind that embedding a 300 dimensional space in 2 dimensions will usually result in loss of information."
   ]
  },
  {
   "cell_type": "code",
   "execution_count": 10,
   "metadata": {
    "ExecuteTime": {
     "end_time": "2019-08-07T11:40:12.427833Z",
     "start_time": "2019-08-07T11:40:08.658517Z"
    }
   },
   "outputs": [
    {
     "data": {
      "image/png": "[encoded data removed]",
      "text/plain": [
       "<Figure size 720x720 with 1 Axes>"
      ]
     },
     "metadata": {
      "needs_background": "light"
     },
     "output_type": "display_data"
    }
   ],
   "source": [
    "from sklearn.manifold import TSNE\n",
    "labels = ['king','queen', 'women', 'men'] #you can add/change as many words as you like\n",
    "X = np.stack([model[word] for word in labels]) \n",
    "tsne = TSNE(n_components=2, random_state=12)\n",
    "X_2d = tsne.fit_transform(X)\n",
    "x = [x[0] for x in X_2d]\n",
    "y = [x[1] for x in X_2d]\n",
    "plt.figure(figsize=(10,10))\n",
    "plt.scatter(x, y)\n",
    "ax = plt.gca()\n",
    "for i,label in enumerate(labels):\n",
    "    ax.annotate(label, (x[i],y[i]))\n",
    "plt.show()"
   ]
  },
  {
   "cell_type": "markdown",
   "metadata": {},
   "source": [
    "## Create your own language model using tweets\n",
    "In this section we will create our own vectors using a tweets dataset"
   ]
  },
  {
   "cell_type": "markdown",
   "metadata": {},
   "source": [
    "Load the **sentiment140.csv** using pandas **read_csv** function. Please use the following function parameters:\n",
    "1. encoding='latin1'\n",
    "2. names=['id','date','flag','user','text']"
   ]
  },
  {
   "cell_type": "code",
   "execution_count": 16,
   "metadata": {
    "ExecuteTime": {
     "end_time": "2019-08-07T11:45:58.852393Z",
     "start_time": "2019-08-07T11:45:52.514626Z"
    }
   },
   "outputs": [
    {
     "data": {
      "text/html": [
       "<div>\n",
       "<style scoped>\n",
       "    .dataframe tbody tr th:only-of-type {\n",
       "        vertical-align: middle;\n",
       "    }\n",
       "\n",
       "    .dataframe tbody tr th {\n",
       "        vertical-align: top;\n",
       "    }\n",
       "\n",
       "    .dataframe thead th {\n",
       "        text-align: right;\n",
       "    }\n",
       "</style>\n",
       "<table border=\"1\" class=\"dataframe\">\n",
       "  <thead>\n",
       "    <tr style=\"text-align: right;\">\n",
       "      <th></th>\n",
       "      <th>id</th>\n",
       "      <th>date</th>\n",
       "      <th>flag</th>\n",
       "      <th>user</th>\n",
       "      <th>text</th>\n",
       "    </tr>\n",
       "  </thead>\n",
       "  <tbody>\n",
       "    <tr>\n",
       "      <th>0</th>\n",
       "      <td>1467810369</td>\n",
       "      <td>Mon Apr 06 22:19:45 PDT 2009</td>\n",
       "      <td>NO_QUERY</td>\n",
       "      <td>_TheSpecialOne_</td>\n",
       "      <td>@switchfoot http://twitpic.com/2y1zl - Awww, t...</td>\n",
       "    </tr>\n",
       "    <tr>\n",
       "      <th>0</th>\n",
       "      <td>1467810672</td>\n",
       "      <td>Mon Apr 06 22:19:49 PDT 2009</td>\n",
       "      <td>NO_QUERY</td>\n",
       "      <td>scotthamilton</td>\n",
       "      <td>is upset that he can't update his Facebook by ...</td>\n",
       "    </tr>\n",
       "    <tr>\n",
       "      <th>0</th>\n",
       "      <td>1467810917</td>\n",
       "      <td>Mon Apr 06 22:19:53 PDT 2009</td>\n",
       "      <td>NO_QUERY</td>\n",
       "      <td>mattycus</td>\n",
       "      <td>@Kenichan I dived many times for the ball. Man...</td>\n",
       "    </tr>\n",
       "    <tr>\n",
       "      <th>0</th>\n",
       "      <td>1467811184</td>\n",
       "      <td>Mon Apr 06 22:19:57 PDT 2009</td>\n",
       "      <td>NO_QUERY</td>\n",
       "      <td>ElleCTF</td>\n",
       "      <td>my whole body feels itchy and like its on fire</td>\n",
       "    </tr>\n",
       "    <tr>\n",
       "      <th>0</th>\n",
       "      <td>1467811193</td>\n",
       "      <td>Mon Apr 06 22:19:57 PDT 2009</td>\n",
       "      <td>NO_QUERY</td>\n",
       "      <td>Karoli</td>\n",
       "      <td>@nationwideclass no, it's not behaving at all....</td>\n",
       "    </tr>\n",
       "  </tbody>\n",
       "</table>\n",
       "</div>"
      ],
      "text/plain": [
       "           id                          date      flag             user  \\\n",
       "0  1467810369  Mon Apr 06 22:19:45 PDT 2009  NO_QUERY  _TheSpecialOne_   \n",
       "0  1467810672  Mon Apr 06 22:19:49 PDT 2009  NO_QUERY    scotthamilton   \n",
       "0  1467810917  Mon Apr 06 22:19:53 PDT 2009  NO_QUERY         mattycus   \n",
       "0  1467811184  Mon Apr 06 22:19:57 PDT 2009  NO_QUERY          ElleCTF   \n",
       "0  1467811193  Mon Apr 06 22:19:57 PDT 2009  NO_QUERY           Karoli   \n",
       "\n",
       "                                                text  \n",
       "0  @switchfoot http://twitpic.com/2y1zl - Awww, t...  \n",
       "0  is upset that he can't update his Facebook by ...  \n",
       "0  @Kenichan I dived many times for the ball. Man...  \n",
       "0    my whole body feels itchy and like its on fire   \n",
       "0  @nationwideclass no, it's not behaving at all....  "
      ]
     },
     "execution_count": 16,
     "metadata": {},
     "output_type": "execute_result"
    }
   ],
   "source": [
    "tweeter_df = pd.read_csv('sentiment140.csv', encoding='latin1', names=['id','date','flag','user','text'])\n",
    "tweeter_df.head()"
   ]
  },
  {
   "cell_type": "markdown",
   "metadata": {},
   "source": [
    "In this exercise we will use the nltk.RegexpTokenizer - https://www.nltk.org/_modules/nltk/tokenize/regexp.html -\n",
    "but you may chose any tokenizer you deem appropriate"
   ]
  },
  {
   "cell_type": "code",
   "execution_count": 17,
   "metadata": {
    "ExecuteTime": {
     "end_time": "2019-08-07T11:49:23.946741Z",
     "start_time": "2019-08-07T11:49:23.858058Z"
    }
   },
   "outputs": [],
   "source": [
    "tkr = RegexpTokenizer('[a-zA-Z0-9\\'@]+')"
   ]
  },
  {
   "cell_type": "markdown",
   "metadata": {},
   "source": [
    "Create a class called SentenceGenerator that receives as input the pandas.Series column containing the sentences to train on and a tokenizer to break the sentences. We remind you to think of any \"normalizing\" methods for the text used. "
   ]
  },
  {
   "cell_type": "code",
   "execution_count": 19,
   "metadata": {
    "ExecuteTime": {
     "end_time": "2019-08-07T11:52:42.687246Z",
     "start_time": "2019-08-07T11:52:42.664056Z"
    }
   },
   "outputs": [],
   "source": [
    "class SentenceGenerator(object):\n",
    "    def __init__(self, series, tokenizer=None):\n",
    "        self.sentences = series\n",
    "        self.tokenizer = tokenizer\n",
    "        \n",
    "    def __iter__(self):\n",
    "        for tweet in self.sentences:\n",
    "            yield self.tokenizer.tokenize(tweet) # yields a tweet split into a list of words (tokens) i.e. \n",
    "                                          # \"I love dogs\" --> ['I', 'love', 'dogs'] \n",
    "                                          # (hint: use the tokenizer to achieve this result)"
   ]
  },
  {
   "cell_type": "markdown",
   "metadata": {},
   "source": [
    "Initiate a SentenceGenerator object to pass to the model"
   ]
  },
  {
   "cell_type": "code",
   "execution_count": 28,
   "metadata": {
    "ExecuteTime": {
     "end_time": "2019-08-07T12:05:48.418302Z",
     "start_time": "2019-08-07T12:05:48.396218Z"
    }
   },
   "outputs": [],
   "source": [
    "sentences = SentenceGenerator(tweeter_df.text, tkr)"
   ]
  },
  {
   "cell_type": "code",
   "execution_count": 29,
   "metadata": {
    "ExecuteTime": {
     "end_time": "2019-08-07T12:05:55.900672Z",
     "start_time": "2019-08-07T12:05:55.870293Z"
    }
   },
   "outputs": [
    {
     "data": {
      "text/plain": [
       "1600000"
      ]
     },
     "execution_count": 29,
     "metadata": {},
     "output_type": "execute_result"
    }
   ],
   "source": [
    "len(sentences.sentences)"
   ]
  },
  {
   "cell_type": "markdown",
   "metadata": {},
   "source": [
    "### Model intiation"
   ]
  },
  {
   "cell_type": "code",
   "execution_count": 30,
   "metadata": {
    "ExecuteTime": {
     "end_time": "2019-08-07T12:06:00.878359Z",
     "start_time": "2019-08-07T12:06:00.806186Z"
    }
   },
   "outputs": [],
   "source": [
    "model = gen.models.Word2Vec(iter=5, size=100, window=5)"
   ]
  },
  {
   "cell_type": "markdown",
   "metadata": {},
   "source": [
    "Now we have initiated the Word2Vec model. The next step is to call the **build_vocab** method for the preliminary scan of the text. Call the method and print how many words are in the vocabulary of our text"
   ]
  },
  {
   "cell_type": "code",
   "execution_count": 31,
   "metadata": {
    "ExecuteTime": {
     "end_time": "2019-08-07T12:06:35.710501Z",
     "start_time": "2019-08-07T12:06:03.891779Z"
    }
   },
   "outputs": [
    {
     "name": "stdout",
     "output_type": "stream",
     "text": [
      "Number of words in vocabulary: 100771\n"
     ]
    }
   ],
   "source": [
    "model.build_vocab(sentences)\n",
    "print(\"Number of words in vocabulary: {}\".format(len(model.wv.vocab)))"
   ]
  },
  {
   "cell_type": "markdown",
   "metadata": {},
   "source": [
    "In the previous step we created the vocabulary for our model, it is now time to train! Don't forget to add the following parameters:\n",
    "1. total_examples=model.corpus_count \n",
    "2. epochs=model.epochs"
   ]
  },
  {
   "cell_type": "code",
   "execution_count": 32,
   "metadata": {
    "ExecuteTime": {
     "end_time": "2019-08-07T12:11:27.608746Z",
     "start_time": "2019-08-07T12:08:23.044473Z"
    }
   },
   "outputs": [
    {
     "data": {
      "text/plain": [
       "(84794821, 107891310)"
      ]
     },
     "execution_count": 32,
     "metadata": {},
     "output_type": "execute_result"
    }
   ],
   "source": [
    "model.train(sentences, total_examples=model.corpus_count , epochs=model.epochs)"
   ]
  },
  {
   "cell_type": "markdown",
   "metadata": {},
   "source": [
    "Test a few words"
   ]
  },
  {
   "cell_type": "code",
   "execution_count": 34,
   "metadata": {
    "ExecuteTime": {
     "end_time": "2019-08-07T12:13:27.685973Z",
     "start_time": "2019-08-07T12:13:27.629192Z"
    }
   },
   "outputs": [
    {
     "name": "stderr",
     "output_type": "stream",
     "text": [
      "/Users/Yohan/Desktop/anaconda3/lib/python3.7/site-packages/ipykernel_launcher.py:2: DeprecationWarning: Call to deprecated `most_similar` (Method will be removed in 4.0.0, use self.wv.most_similar() instead).\n",
      "  \n"
     ]
    },
    {
     "data": {
      "text/plain": [
       "[('hi', 0.8332379460334778),\n",
       " ('Hello', 0.7451553344726562),\n",
       " ('HI', 0.5975638031959534),\n",
       " ('Hi', 0.597272515296936),\n",
       " ('goodmorning', 0.575630784034729),\n",
       " (\"g'day\", 0.5733354091644287),\n",
       " ('goodbye', 0.5568711161613464),\n",
       " ('Needless', 0.5473582148551941),\n",
       " ('howdy', 0.5304937362670898),\n",
       " ('hey', 0.5157997012138367)]"
      ]
     },
     "execution_count": 34,
     "metadata": {},
     "output_type": "execute_result"
    }
   ],
   "source": [
    "WORD = 'hello'\n",
    "model.most_similar(WORD,topn = 10)"
   ]
  },
  {
   "cell_type": "code",
   "execution_count": 35,
   "metadata": {
    "ExecuteTime": {
     "end_time": "2019-08-07T12:14:11.455276Z",
     "start_time": "2019-08-07T12:14:11.431743Z"
    }
   },
   "outputs": [
    {
     "name": "stderr",
     "output_type": "stream",
     "text": [
      "/Users/Yohan/Desktop/anaconda3/lib/python3.7/site-packages/ipykernel_launcher.py:2: DeprecationWarning: Call to deprecated `most_similar` (Method will be removed in 4.0.0, use self.wv.most_similar() instead).\n",
      "  \n"
     ]
    },
    {
     "data": {
      "text/plain": [
       "[('roof', 0.7398131489753723),\n",
       " ('ground', 0.7277926206588745),\n",
       " ('bench', 0.7055509090423584),\n",
       " ('lights', 0.6815931797027588),\n",
       " ('sidewalk', 0.6792067289352417),\n",
       " ('concrete', 0.6496330499649048),\n",
       " ('patio', 0.6444999575614929),\n",
       " ('air', 0.641000509262085),\n",
       " ('freeway', 0.637859582901001),\n",
       " ('trampoline', 0.634464681148529)]"
      ]
     },
     "execution_count": 35,
     "metadata": {},
     "output_type": "execute_result"
    }
   ],
   "source": [
    "WORD = 'fire'\n",
    "model.most_similar(WORD,topn = 10)"
   ]
  },
  {
   "cell_type": "markdown",
   "metadata": {},
   "source": [
    "Try computing again the **KING - MEN + WOMEN** equation, are you satisfied with the results?"
   ]
  },
  {
   "cell_type": "code",
   "execution_count": 37,
   "metadata": {
    "ExecuteTime": {
     "end_time": "2019-08-07T12:31:53.803999Z",
     "start_time": "2019-08-07T12:31:53.770391Z"
    }
   },
   "outputs": [
    {
     "name": "stderr",
     "output_type": "stream",
     "text": [
      "/Users/Yohan/Desktop/anaconda3/lib/python3.7/site-packages/ipykernel_launcher.py:1: DeprecationWarning: Call to deprecated `most_similar` (Method will be removed in 4.0.0, use self.wv.most_similar() instead).\n",
      "  \"\"\"Entry point for launching an IPython kernel.\n"
     ]
    },
    {
     "data": {
      "text/plain": [
       "[('queen', 0.5146985054016113),\n",
       " ('mickey', 0.5092897415161133),\n",
       " ('g', 0.4950292706489563),\n",
       " ('lion', 0.49368131160736084),\n",
       " ('infront', 0.48976653814315796),\n",
       " ('mist', 0.48532313108444214),\n",
       " ('leader', 0.48473483324050903),\n",
       " ('chef', 0.4846067428588867),\n",
       " ('farmer', 0.4795418977737427),\n",
       " ('bar', 0.4710320234298706)]"
      ]
     },
     "execution_count": 37,
     "metadata": {},
     "output_type": "execute_result"
    }
   ],
   "source": [
    "model.most_similar(positive = ['king', 'women'], negative = ['men'], topn = 10)"
   ]
  },
  {
   "cell_type": "markdown",
   "metadata": {},
   "source": [
    "No I am not satisfied with the result since after queen none of the words have any sort of relation to royalty or gender."
   ]
  },
  {
   "cell_type": "markdown",
   "metadata": {},
   "source": [
    "Guess why this might be happening? Can you think of other words that will achieve better results? Can you explain why?"
   ]
  },
  {
   "cell_type": "markdown",
   "metadata": {},
   "source": [
    "This is happening because the new corpus is much smaller than google's and because it is based on sentiment text rather than relevant text to royalty or gender. "
   ]
  },
  {
   "cell_type": "code",
   "execution_count": 38,
   "metadata": {
    "ExecuteTime": {
     "end_time": "2019-08-07T12:37:15.157569Z",
     "start_time": "2019-08-07T12:37:14.770863Z"
    }
   },
   "outputs": [
    {
     "name": "stderr",
     "output_type": "stream",
     "text": [
      "/Users/Yohan/Desktop/anaconda3/lib/python3.7/site-packages/ipykernel_launcher.py:1: DeprecationWarning: Call to deprecated `most_similar` (Method will be removed in 4.0.0, use self.wv.most_similar() instead).\n",
      "  \"\"\"Entry point for launching an IPython kernel.\n"
     ]
    },
    {
     "data": {
      "text/plain": [
       "[('giddy', 0.6570305824279785),\n",
       " ('grumpy', 0.6481046676635742),\n",
       " ('satisfied', 0.644702672958374),\n",
       " ('hungover', 0.6386511325836182),\n",
       " ('confident', 0.6292369961738586),\n",
       " ('stressed', 0.6277319192886353),\n",
       " ('cranky', 0.6238649487495422),\n",
       " ('frustrated', 0.6226609945297241),\n",
       " ('tierd', 0.6158076524734497),\n",
       " ('sleepy', 0.6125938892364502)]"
      ]
     },
     "execution_count": 38,
     "metadata": {},
     "output_type": "execute_result"
    }
   ],
   "source": [
    "model.most_similar(positive = ['happy', 'depressed'], negative = ['sad'], topn = 10)"
   ]
  },
  {
   "cell_type": "code",
   "execution_count": 39,
   "metadata": {
    "ExecuteTime": {
     "end_time": "2019-08-07T12:38:09.055323Z",
     "start_time": "2019-08-07T12:38:08.992756Z"
    }
   },
   "outputs": [
    {
     "name": "stderr",
     "output_type": "stream",
     "text": [
      "/Users/Yohan/Desktop/anaconda3/lib/python3.7/site-packages/ipykernel_launcher.py:1: DeprecationWarning: Call to deprecated `most_similar` (Method will be removed in 4.0.0, use self.wv.most_similar() instead).\n",
      "  \"\"\"Entry point for launching an IPython kernel.\n"
     ]
    },
    {
     "data": {
      "text/plain": [
       "[('optimistic', 0.7103308439254761),\n",
       " ('generous', 0.7017766237258911),\n",
       " ('powerful', 0.6929188966751099),\n",
       " ('helpful', 0.6906144022941589),\n",
       " ('fortunate', 0.685020923614502),\n",
       " ('enjoyable', 0.663174033164978),\n",
       " ('overwhelming', 0.6601001024246216),\n",
       " ('creative', 0.6435046195983887),\n",
       " ('thoughtful', 0.6385968923568726),\n",
       " ('entertaining', 0.6378906965255737)]"
      ]
     },
     "execution_count": 39,
     "metadata": {},
     "output_type": "execute_result"
    }
   ],
   "source": [
    "model.most_similar(positive = ['brave', 'confident'], negative = ['scared'], topn = 10)"
   ]
  },
  {
   "cell_type": "markdown",
   "metadata": {},
   "source": [
    "We can see that the above results are much better because the examples are sentiment related as was the text we trained on."
   ]
  },
  {
   "cell_type": "markdown",
   "metadata": {},
   "source": [
    "Play around with the model see if you can find some insights to share with the class"
   ]
  },
  {
   "cell_type": "code",
   "execution_count": 44,
   "metadata": {
    "ExecuteTime": {
     "end_time": "2019-08-07T12:48:03.855561Z",
     "start_time": "2019-08-07T12:48:03.835115Z"
    }
   },
   "outputs": [
    {
     "name": "stderr",
     "output_type": "stream",
     "text": [
      "/Users/Yohan/Desktop/anaconda3/lib/python3.7/site-packages/ipykernel_launcher.py:2: DeprecationWarning: Call to deprecated `most_similar` (Method will be removed in 4.0.0, use self.wv.most_similar() instead).\n",
      "  \n"
     ]
    },
    {
     "data": {
      "text/plain": [
       "[('kid', 0.7823323607444763),\n",
       " ('woman', 0.7578195333480835),\n",
       " ('boy', 0.7285141944885254),\n",
       " ('person', 0.697873592376709),\n",
       " ('girl', 0.6975091099739075),\n",
       " ('lady', 0.6900158524513245),\n",
       " ('man', 0.6834324598312378),\n",
       " ('bloke', 0.6734912395477295),\n",
       " ('chick', 0.6684327721595764),\n",
       " ('bird', 0.624645471572876)]"
      ]
     },
     "execution_count": 44,
     "metadata": {},
     "output_type": "execute_result"
    }
   ],
   "source": [
    "WORD = 'guy'\n",
    "model.most_similar(WORD,topn = 10)"
   ]
  },
  {
   "cell_type": "code",
   "execution_count": 45,
   "metadata": {
    "ExecuteTime": {
     "end_time": "2019-08-07T12:48:16.547840Z",
     "start_time": "2019-08-07T12:48:16.524059Z"
    }
   },
   "outputs": [
    {
     "name": "stderr",
     "output_type": "stream",
     "text": [
      "/Users/Yohan/Desktop/anaconda3/lib/python3.7/site-packages/ipykernel_launcher.py:2: DeprecationWarning: Call to deprecated `most_similar` (Method will be removed in 4.0.0, use self.wv.most_similar() instead).\n",
      "  \n"
     ]
    },
    {
     "data": {
      "text/plain": [
       "[('hello', 0.8332380056381226),\n",
       " ('HI', 0.69446861743927),\n",
       " ('Hi', 0.6550207138061523),\n",
       " ('hey', 0.6525684595108032),\n",
       " ('Needless', 0.6040825247764587),\n",
       " ('hii', 0.5848022103309631),\n",
       " ('Hello', 0.578462541103363),\n",
       " ('heyyy', 0.5755428075790405),\n",
       " ('heyy', 0.5686952471733093),\n",
       " (\"g'day\", 0.5639710426330566)]"
      ]
     },
     "execution_count": 45,
     "metadata": {},
     "output_type": "execute_result"
    }
   ],
   "source": [
    "WORD = 'hi'\n",
    "model.most_similar(WORD,topn = 10)"
   ]
  },
  {
   "cell_type": "markdown",
   "metadata": {},
   "source": [
    "We can see from the above similar words that many of them contain slang. This is because the model is trained on tweets which contain a lot of slang usually."
   ]
  }
 ],
 "metadata": {
  "kernelspec": {
   "display_name": "Python 3",
   "language": "python",
   "name": "python3"
  },
  "language_info": {
   "codemirror_mode": {
    "name": "ipython",
    "version": 3
   },
   "file_extension": ".py",
   "mimetype": "text/x-python",
   "name": "python",
   "nbconvert_exporter": "python",
   "pygments_lexer": "ipython3",
   "version": "3.7.3"
  },
  "latex_envs": {
   "LaTeX_envs_menu_present": true,
   "autoclose": false,
   "autocomplete": true,
   "bibliofile": "biblio.bib",
   "cite_by": "apalike",
   "current_citInitial": 1,
   "eqLabelWithNumbers": true,
   "eqNumInitial": 1,
   "hotkeys": {
    "equation": "Ctrl-E",
    "itemize": "Ctrl-I"
   },
   "labels_anchors": false,
   "latex_user_defs": false,
   "report_style_numbering": false,
   "user_envs_cfg": false
  },
  "nbTranslate": {
   "displayLangs": [
    "*"
   ],
   "hotkey": "alt-t",
   "langInMainMenu": true,
   "sourceLang": "en",
   "targetLang": "fr",
   "useGoogleTranslate": true
  },
  "toc": {
   "base_numbering": 1,
   "nav_menu": {},
   "number_sections": true,
   "sideBar": true,
   "skip_h1_title": false,
   "title_cell": "Table of Contents",
   "title_sidebar": "Contents",
   "toc_cell": false,
   "toc_position": {},
   "toc_section_display": true,
   "toc_window_display": false
  },
  "varInspector": {
   "cols": {
    "lenName": 16,
    "lenType": 16,
    "lenVar": 40
   },
   "kernels_config": {
    "python": {
     "delete_cmd_postfix": "",
     "delete_cmd_prefix": "del ",
     "library": "var_list.py",
     "varRefreshCmd": "print(var_dic_list())"
    },
    "r": {
     "delete_cmd_postfix": ") ",
     "delete_cmd_prefix": "rm(",
     "library": "var_list.r",
     "varRefreshCmd": "cat(var_dic_list()) "
    }
   },
   "types_to_exclude": [
    "module",
    "function",
    "builtin_function_or_method",
    "instance",
    "_Feature"
   ],
   "window_display": false
  }
 },
 "nbformat": 4,
 "nbformat_minor": 2
}
