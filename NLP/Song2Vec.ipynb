{
 "cells": [
  {
   "cell_type": "markdown",
   "metadata": {},
   "source": [
    "# Song2Vec - Word2Vec for non-NLP tasks\n",
    "In this exercise you will apply the word2vec algorithm to a playlist dataset. In case you need help with the code, use the previous notebook and documentation"
   ]
  },
  {
   "cell_type": "code",
   "execution_count": 1,
   "metadata": {
    "ExecuteTime": {
     "end_time": "2019-08-17T18:32:30.397733Z",
     "start_time": "2019-08-17T18:31:51.603409Z"
    }
   },
   "outputs": [],
   "source": [
    "import pandas as pd\n",
    "import numpy as np\n",
    "import gensim as gen\n",
    "from matplotlib import pyplot as plt\n",
    "%matplotlib inline"
   ]
  },
  {
   "cell_type": "markdown",
   "metadata": {},
   "source": [
    "First lets load the csv named **aotm2011_playlists.csv**. Examine the dataframe to understand you data, how many distinct songs are in the data? how many playlists? etc."
   ]
  },
  {
   "cell_type": "code",
   "execution_count": 2,
   "metadata": {
    "ExecuteTime": {
     "end_time": "2019-08-17T18:32:58.553728Z",
     "start_time": "2019-08-17T18:32:30.406422Z"
    },
    "scrolled": true
   },
   "outputs": [
    {
     "data": {
      "text/html": [
       "<div>\n",
       "<style scoped>\n",
       "    .dataframe tbody tr th:only-of-type {\n",
       "        vertical-align: middle;\n",
       "    }\n",
       "\n",
       "    .dataframe tbody tr th {\n",
       "        vertical-align: top;\n",
       "    }\n",
       "\n",
       "    .dataframe thead th {\n",
       "        text-align: right;\n",
       "    }\n",
       "</style>\n",
       "<table border=\"1\" class=\"dataframe\">\n",
       "  <thead>\n",
       "    <tr style=\"text-align: right;\">\n",
       "      <th></th>\n",
       "      <th>artist</th>\n",
       "      <th>category</th>\n",
       "      <th>playlist_id</th>\n",
       "      <th>song</th>\n",
       "      <th>user_id</th>\n",
       "    </tr>\n",
       "  </thead>\n",
       "  <tbody>\n",
       "    <tr>\n",
       "      <th>0</th>\n",
       "      <td>peter murphy</td>\n",
       "      <td>Mixed Genre</td>\n",
       "      <td>89567.0</td>\n",
       "      <td>marlene dietrich's favourite poem</td>\n",
       "      <td>pulmotor</td>\n",
       "    </tr>\n",
       "    <tr>\n",
       "      <th>1</th>\n",
       "      <td>the walker brothers</td>\n",
       "      <td>Mixed Genre</td>\n",
       "      <td>89567.0</td>\n",
       "      <td>the sun ain't gonna shine anymore</td>\n",
       "      <td>pulmotor</td>\n",
       "    </tr>\n",
       "    <tr>\n",
       "      <th>2</th>\n",
       "      <td>marc almond</td>\n",
       "      <td>Mixed Genre</td>\n",
       "      <td>89567.0</td>\n",
       "      <td>jacky</td>\n",
       "      <td>pulmotor</td>\n",
       "    </tr>\n",
       "    <tr>\n",
       "      <th>3</th>\n",
       "      <td>tindersticks</td>\n",
       "      <td>Mixed Genre</td>\n",
       "      <td>89567.0</td>\n",
       "      <td>dying slowly</td>\n",
       "      <td>pulmotor</td>\n",
       "    </tr>\n",
       "    <tr>\n",
       "      <th>4</th>\n",
       "      <td>tori amos</td>\n",
       "      <td>Mixed Genre</td>\n",
       "      <td>89567.0</td>\n",
       "      <td>me and a gun</td>\n",
       "      <td>pulmotor</td>\n",
       "    </tr>\n",
       "    <tr>\n",
       "      <th>5</th>\n",
       "      <td>suzanne vega</td>\n",
       "      <td>Mixed Genre</td>\n",
       "      <td>89567.0</td>\n",
       "      <td>luka</td>\n",
       "      <td>pulmotor</td>\n",
       "    </tr>\n",
       "    <tr>\n",
       "      <th>6</th>\n",
       "      <td>madonna</td>\n",
       "      <td>Mixed Genre</td>\n",
       "      <td>89567.0</td>\n",
       "      <td>spanish eyes</td>\n",
       "      <td>pulmotor</td>\n",
       "    </tr>\n",
       "    <tr>\n",
       "      <th>7</th>\n",
       "      <td>the angels of light</td>\n",
       "      <td>Mixed Genre</td>\n",
       "      <td>89567.0</td>\n",
       "      <td>praise your name</td>\n",
       "      <td>pulmotor</td>\n",
       "    </tr>\n",
       "    <tr>\n",
       "      <th>8</th>\n",
       "      <td>eurythmics</td>\n",
       "      <td>Mixed Genre</td>\n",
       "      <td>89567.0</td>\n",
       "      <td>sex crime</td>\n",
       "      <td>pulmotor</td>\n",
       "    </tr>\n",
       "    <tr>\n",
       "      <th>9</th>\n",
       "      <td>tom waits</td>\n",
       "      <td>Mixed Genre</td>\n",
       "      <td>89567.0</td>\n",
       "      <td>drunk on the moon</td>\n",
       "      <td>pulmotor</td>\n",
       "    </tr>\n",
       "    <tr>\n",
       "      <th>10</th>\n",
       "      <td>kate bush</td>\n",
       "      <td>Mixed Genre</td>\n",
       "      <td>89567.0</td>\n",
       "      <td>wuthering heights</td>\n",
       "      <td>pulmotor</td>\n",
       "    </tr>\n",
       "    <tr>\n",
       "      <th>11</th>\n",
       "      <td>david bowie</td>\n",
       "      <td>Mixed Genre</td>\n",
       "      <td>89567.0</td>\n",
       "      <td>new york's in love</td>\n",
       "      <td>pulmotor</td>\n",
       "    </tr>\n",
       "    <tr>\n",
       "      <th>12</th>\n",
       "      <td>echo &amp; the bunnymen</td>\n",
       "      <td>Mixed Genre</td>\n",
       "      <td>89567.0</td>\n",
       "      <td>crocodiles</td>\n",
       "      <td>pulmotor</td>\n",
       "    </tr>\n",
       "    <tr>\n",
       "      <th>13</th>\n",
       "      <td>peter murphy</td>\n",
       "      <td>Mixed Genre</td>\n",
       "      <td>89567.0</td>\n",
       "      <td>i'll fall with your knife</td>\n",
       "      <td>pulmotor</td>\n",
       "    </tr>\n",
       "    <tr>\n",
       "      <th>14</th>\n",
       "      <td>the cure</td>\n",
       "      <td>Theme</td>\n",
       "      <td>117124.0</td>\n",
       "      <td>edge of the deep green sea</td>\n",
       "      <td>caterpillar</td>\n",
       "    </tr>\n",
       "    <tr>\n",
       "      <th>15</th>\n",
       "      <td>jeff buckley</td>\n",
       "      <td>Theme</td>\n",
       "      <td>117124.0</td>\n",
       "      <td>nightmares by the sea</td>\n",
       "      <td>caterpillar</td>\n",
       "    </tr>\n",
       "    <tr>\n",
       "      <th>16</th>\n",
       "      <td>travis</td>\n",
       "      <td>Theme</td>\n",
       "      <td>117124.0</td>\n",
       "      <td>driftwood</td>\n",
       "      <td>caterpillar</td>\n",
       "    </tr>\n",
       "    <tr>\n",
       "      <th>17</th>\n",
       "      <td>johnny cash</td>\n",
       "      <td>Theme</td>\n",
       "      <td>117124.0</td>\n",
       "      <td>big river</td>\n",
       "      <td>caterpillar</td>\n",
       "    </tr>\n",
       "    <tr>\n",
       "      <th>18</th>\n",
       "      <td>g.love</td>\n",
       "      <td>Theme</td>\n",
       "      <td>117124.0</td>\n",
       "      <td>fishing song</td>\n",
       "      <td>caterpillar</td>\n",
       "    </tr>\n",
       "    <tr>\n",
       "      <th>19</th>\n",
       "      <td>rem</td>\n",
       "      <td>Theme</td>\n",
       "      <td>117124.0</td>\n",
       "      <td>nightswimming</td>\n",
       "      <td>caterpillar</td>\n",
       "    </tr>\n",
       "  </tbody>\n",
       "</table>\n",
       "</div>"
      ],
      "text/plain": [
       "                 artist     category  playlist_id  \\\n",
       "0          peter murphy  Mixed Genre      89567.0   \n",
       "1   the walker brothers  Mixed Genre      89567.0   \n",
       "2           marc almond  Mixed Genre      89567.0   \n",
       "3          tindersticks  Mixed Genre      89567.0   \n",
       "4             tori amos  Mixed Genre      89567.0   \n",
       "5          suzanne vega  Mixed Genre      89567.0   \n",
       "6               madonna  Mixed Genre      89567.0   \n",
       "7   the angels of light  Mixed Genre      89567.0   \n",
       "8            eurythmics  Mixed Genre      89567.0   \n",
       "9             tom waits  Mixed Genre      89567.0   \n",
       "10            kate bush  Mixed Genre      89567.0   \n",
       "11          david bowie  Mixed Genre      89567.0   \n",
       "12  echo & the bunnymen  Mixed Genre      89567.0   \n",
       "13         peter murphy  Mixed Genre      89567.0   \n",
       "14             the cure        Theme     117124.0   \n",
       "15         jeff buckley        Theme     117124.0   \n",
       "16               travis        Theme     117124.0   \n",
       "17          johnny cash        Theme     117124.0   \n",
       "18               g.love        Theme     117124.0   \n",
       "19                  rem        Theme     117124.0   \n",
       "\n",
       "                                 song      user_id  \n",
       "0   marlene dietrich's favourite poem     pulmotor  \n",
       "1   the sun ain't gonna shine anymore     pulmotor  \n",
       "2                               jacky     pulmotor  \n",
       "3                        dying slowly     pulmotor  \n",
       "4                        me and a gun     pulmotor  \n",
       "5                                luka     pulmotor  \n",
       "6                        spanish eyes     pulmotor  \n",
       "7                    praise your name     pulmotor  \n",
       "8                           sex crime     pulmotor  \n",
       "9                   drunk on the moon     pulmotor  \n",
       "10                  wuthering heights     pulmotor  \n",
       "11                 new york's in love     pulmotor  \n",
       "12                         crocodiles     pulmotor  \n",
       "13          i'll fall with your knife     pulmotor  \n",
       "14         edge of the deep green sea  caterpillar  \n",
       "15              nightmares by the sea  caterpillar  \n",
       "16                          driftwood  caterpillar  \n",
       "17                          big river  caterpillar  \n",
       "18                       fishing song  caterpillar  \n",
       "19                      nightswimming  caterpillar  "
      ]
     },
     "execution_count": 2,
     "metadata": {},
     "output_type": "execute_result"
    }
   ],
   "source": [
    "df = pd.read_csv('aotm2011_playlists.csv')\n",
    "df.head(20)"
   ]
  },
  {
   "cell_type": "code",
   "execution_count": 3,
   "metadata": {
    "ExecuteTime": {
     "end_time": "2019-08-17T18:33:01.056571Z",
     "start_time": "2019-08-17T18:32:58.669078Z"
    }
   },
   "outputs": [
    {
     "name": "stdout",
     "output_type": "stream",
     "text": [
      "There are 504985 songs\n"
     ]
    }
   ],
   "source": [
    "print(\"There are {} songs\".format(df['song'].nunique()))"
   ]
  },
  {
   "cell_type": "code",
   "execution_count": 4,
   "metadata": {
    "ExecuteTime": {
     "end_time": "2019-08-17T18:33:01.301197Z",
     "start_time": "2019-08-17T18:33:01.072294Z"
    }
   },
   "outputs": [
    {
     "name": "stdout",
     "output_type": "stream",
     "text": [
      "There are 101264 playlists\n"
     ]
    }
   ],
   "source": [
    "print(\"There are {} playlists\".format(df['playlist_id'].nunique()))"
   ]
  },
  {
   "cell_type": "code",
   "execution_count": 5,
   "metadata": {
    "ExecuteTime": {
     "end_time": "2019-08-17T18:33:03.528423Z",
     "start_time": "2019-08-17T18:33:01.309997Z"
    }
   },
   "outputs": [],
   "source": [
    "df['song'] = df['song'].apply(str)"
   ]
  },
  {
   "cell_type": "code",
   "execution_count": 6,
   "metadata": {
    "ExecuteTime": {
     "end_time": "2019-08-17T18:33:05.605072Z",
     "start_time": "2019-08-17T18:33:03.538621Z"
    }
   },
   "outputs": [],
   "source": [
    "df['artist'] = df['artist'].apply(str)"
   ]
  },
  {
   "cell_type": "markdown",
   "metadata": {},
   "source": [
    "## Song Similarity\n",
    "Now we will try to create a song similarity model based on Word2Vec. Think how to compose your sentences, what are your words?"
   ]
  },
  {
   "cell_type": "code",
   "execution_count": 7,
   "metadata": {
    "ExecuteTime": {
     "end_time": "2019-08-17T18:33:05.639849Z",
     "start_time": "2019-08-17T18:33:05.622073Z"
    }
   },
   "outputs": [],
   "source": [
    "class SentenceGenerator(object):\n",
    "    def __init__(self, series):\n",
    "        self.playlists = series.tolist()\n",
    "        \n",
    "    def __iter__(self):\n",
    "        for title in self.playlists:\n",
    "            yield title"
   ]
  },
  {
   "cell_type": "code",
   "execution_count": 8,
   "metadata": {
    "ExecuteTime": {
     "end_time": "2019-08-17T18:34:03.629993Z",
     "start_time": "2019-08-17T18:33:05.658983Z"
    }
   },
   "outputs": [],
   "source": [
    "playlists = pd.DataFrame(df.groupby('playlist_id')['song'].apply(list)) "
   ]
  },
  {
   "cell_type": "code",
   "execution_count": 9,
   "metadata": {
    "ExecuteTime": {
     "end_time": "2019-08-17T18:34:03.668767Z",
     "start_time": "2019-08-17T18:34:03.641663Z"
    }
   },
   "outputs": [],
   "source": [
    "sentences = SentenceGenerator(playlists['song'])"
   ]
  },
  {
   "cell_type": "code",
   "execution_count": 10,
   "metadata": {
    "ExecuteTime": {
     "end_time": "2019-08-17T18:34:03.709128Z",
     "start_time": "2019-08-17T18:34:03.690532Z"
    }
   },
   "outputs": [],
   "source": [
    "model = gen.models.Word2Vec(size=100, window=5, min_count=1, workers=4)"
   ]
  },
  {
   "cell_type": "code",
   "execution_count": 11,
   "metadata": {
    "ExecuteTime": {
     "end_time": "2019-08-17T18:35:01.134632Z",
     "start_time": "2019-08-17T18:34:03.719711Z"
    }
   },
   "outputs": [],
   "source": [
    "model.build_vocab(sentences)"
   ]
  },
  {
   "cell_type": "code",
   "execution_count": 12,
   "metadata": {
    "ExecuteTime": {
     "end_time": "2019-08-17T18:37:10.931464Z",
     "start_time": "2019-08-17T18:35:01.193122Z"
    }
   },
   "outputs": [
    {
     "data": {
      "text/plain": [
       "(9937047, 9950110)"
      ]
     },
     "execution_count": 12,
     "metadata": {},
     "output_type": "execute_result"
    }
   ],
   "source": [
    "model.train(sentences, total_examples = model.corpus_count, epochs = model.epochs)"
   ]
  },
  {
   "cell_type": "markdown",
   "metadata": {},
   "source": [
    "Test different songs, how would rate the results? If mediocre or below, why do you think that is?"
   ]
  },
  {
   "cell_type": "code",
   "execution_count": 13,
   "metadata": {
    "ExecuteTime": {
     "end_time": "2019-08-17T18:37:18.931941Z",
     "start_time": "2019-08-17T18:37:11.025289Z"
    }
   },
   "outputs": [
    {
     "data": {
      "text/plain": [
       "[('alone', 0.9999526739120483),\n",
       " ('forever', 0.9999510049819946),\n",
       " ('instant pleasure', 0.999949038028717),\n",
       " ('save yourself', 0.9999487400054932),\n",
       " ('mexico', 0.9999487400054932),\n",
       " ('shiver', 0.9999477863311768),\n",
       " ('hands down', 0.9999476075172424),\n",
       " (\"don't know why\", 0.999947190284729),\n",
       " ('safe and sound', 0.9999469518661499),\n",
       " ('africa', 0.9999468326568604)]"
      ]
     },
     "execution_count": 13,
     "metadata": {},
     "output_type": "execute_result"
    }
   ],
   "source": [
    "model.wv.most_similar(\"luka\", topn=10)"
   ]
  },
  {
   "cell_type": "markdown",
   "metadata": {},
   "source": [
    "The song names seem to have nothing in common. This is most likely because song names are long and complex and can have words in common in the vocabulary without necessarily being similar songs."
   ]
  },
  {
   "cell_type": "markdown",
   "metadata": {},
   "source": [
    "Create another model for artist similarity. Do the results look better than song similarity? Why?"
   ]
  },
  {
   "cell_type": "code",
   "execution_count": 14,
   "metadata": {
    "ExecuteTime": {
     "end_time": "2019-08-17T18:38:54.403155Z",
     "start_time": "2019-08-17T18:37:18.962376Z"
    }
   },
   "outputs": [],
   "source": [
    "artists = pd.DataFrame(df.groupby('playlist_id')['artist'].apply(list))"
   ]
  },
  {
   "cell_type": "code",
   "execution_count": 15,
   "metadata": {
    "ExecuteTime": {
     "end_time": "2019-08-17T18:38:54.708714Z",
     "start_time": "2019-08-17T18:38:54.483496Z"
    }
   },
   "outputs": [],
   "source": [
    "sentences = SentenceGenerator(artists['artist'])"
   ]
  },
  {
   "cell_type": "code",
   "execution_count": 16,
   "metadata": {
    "ExecuteTime": {
     "end_time": "2019-08-17T18:38:54.838843Z",
     "start_time": "2019-08-17T18:38:54.747237Z"
    }
   },
   "outputs": [],
   "source": [
    "model2 = gen.models.Word2Vec(size=100, window=5, min_count=1, workers=4)"
   ]
  },
  {
   "cell_type": "code",
   "execution_count": 17,
   "metadata": {
    "ExecuteTime": {
     "end_time": "2019-08-17T18:39:20.413272Z",
     "start_time": "2019-08-17T18:38:54.853961Z"
    }
   },
   "outputs": [],
   "source": [
    "model2.build_vocab(sentences)"
   ]
  },
  {
   "cell_type": "code",
   "execution_count": 18,
   "metadata": {
    "ExecuteTime": {
     "end_time": "2019-08-17T18:40:25.263940Z",
     "start_time": "2019-08-17T18:39:20.435955Z"
    }
   },
   "outputs": [
    {
     "data": {
      "text/plain": [
       "(9834389, 9950110)"
      ]
     },
     "execution_count": 18,
     "metadata": {},
     "output_type": "execute_result"
    }
   ],
   "source": [
    "model2.train(sentences, total_examples = model2.corpus_count, epochs = model2.epochs)"
   ]
  },
  {
   "cell_type": "code",
   "execution_count": 19,
   "metadata": {
    "ExecuteTime": {
     "end_time": "2019-08-17T18:40:28.740331Z",
     "start_time": "2019-08-17T18:40:25.300289Z"
    }
   },
   "outputs": [
    {
     "data": {
      "text/plain": [
       "[('george michael', 0.9454783201217651),\n",
       " ('the divinyls', 0.9183189272880554),\n",
       " ('max sharam', 0.9084584712982178),\n",
       " ('yazza pistachio', 0.9048500061035156),\n",
       " ('macy gray', 0.9032750129699707),\n",
       " ('pat benatar', 0.8994899988174438),\n",
       " ('white town', 0.8991259336471558),\n",
       " ('cyndi lauper', 0.897653341293335),\n",
       " ('berlin', 0.8936161994934082),\n",
       " ('rockwell [w/michael jackson]', 0.8904864192008972)]"
      ]
     },
     "execution_count": 19,
     "metadata": {},
     "output_type": "execute_result"
    }
   ],
   "source": [
    "model2.wv.most_similar(\"madonna\", topn=10)"
   ]
  },
  {
   "cell_type": "markdown",
   "metadata": {},
   "source": [
    "Yes they do look better. I beleive that this is because artist names are more unique and simpler. They have less in common than song names do."
   ]
  },
  {
   "cell_type": "markdown",
   "metadata": {},
   "source": [
    "Create a TSNE plot for at least 10 different artists"
   ]
  },
  {
   "cell_type": "code",
   "execution_count": 20,
   "metadata": {
    "ExecuteTime": {
     "end_time": "2019-08-17T18:40:49.351966Z",
     "start_time": "2019-08-17T18:40:28.828524Z"
    }
   },
   "outputs": [
    {
     "name": "stderr",
     "output_type": "stream",
     "text": [
      "/Users/Yohan/Desktop/anaconda3/lib/python3.7/site-packages/ipykernel_launcher.py:3: DeprecationWarning: Call to deprecated `__getitem__` (Method will be removed in 4.0.0, use self.wv.__getitem__() instead).\n",
      "  This is separate from the ipykernel package so we can avoid doing imports until\n"
     ]
    },
    {
     "data": {
      "image/png": "[encoded data removed]",
      "text/plain": [
       "<Figure size 432x288 with 1 Axes>"
      ]
     },
     "metadata": {
      "needs_background": "light"
     },
     "output_type": "display_data"
    }
   ],
   "source": [
    "from sklearn.manifold import TSNE\n",
    "artists = ['peter murphy','madonna', 'travis', 'johnny cash', 'ryan adams', 'gram parsons', 'cowboy junkies', 'sidewinder', 'grant mcclennan', 'whiskeytown']\n",
    "X = np.stack([model2[name] for name in artists]) \n",
    "tsne = TSNE(n_components=2, random_state=12)\n",
    "coords = tsne.fit_transform(X)\n",
    "x = [x[0] for x in coords]\n",
    "y = [x[1] for x in coords]\n",
    "plt.scatter(x, y)\n",
    "ax = plt.gca()\n",
    "for i, artists in enumerate(artists):\n",
    "    ax.annotate(artists, (x[i],y[i]))\n",
    "plt.show()"
   ]
  }
 ],
 "metadata": {
  "kernelspec": {
   "display_name": "Python 3",
   "language": "python",
   "name": "python3"
  },
  "language_info": {
   "codemirror_mode": {
    "name": "ipython",
    "version": 3
   },
   "file_extension": ".py",
   "mimetype": "text/x-python",
   "name": "python",
   "nbconvert_exporter": "python",
   "pygments_lexer": "ipython3",
   "version": "3.7.3"
  },
  "latex_envs": {
   "LaTeX_envs_menu_present": true,
   "autoclose": false,
   "autocomplete": true,
   "bibliofile": "biblio.bib",
   "cite_by": "apalike",
   "current_citInitial": 1,
   "eqLabelWithNumbers": true,
   "eqNumInitial": 1,
   "hotkeys": {
    "equation": "Ctrl-E",
    "itemize": "Ctrl-I"
   },
   "labels_anchors": false,
   "latex_user_defs": false,
   "report_style_numbering": false,
   "user_envs_cfg": false
  },
  "nbTranslate": {
   "displayLangs": [
    "*"
   ],
   "hotkey": "alt-t",
   "langInMainMenu": true,
   "sourceLang": "en",
   "targetLang": "fr",
   "useGoogleTranslate": true
  },
  "toc": {
   "base_numbering": 1,
   "nav_menu": {},
   "number_sections": true,
   "sideBar": true,
   "skip_h1_title": false,
   "title_cell": "Table of Contents",
   "title_sidebar": "Contents",
   "toc_cell": false,
   "toc_position": {},
   "toc_section_display": true,
   "toc_window_display": false
  },
  "varInspector": {
   "cols": {
    "lenName": 16,
    "lenType": 16,
    "lenVar": 40
   },
   "kernels_config": {
    "python": {
     "delete_cmd_postfix": "",
     "delete_cmd_prefix": "del ",
     "library": "var_list.py",
     "varRefreshCmd": "print(var_dic_list())"
    },
    "r": {
     "delete_cmd_postfix": ") ",
     "delete_cmd_prefix": "rm(",
     "library": "var_list.r",
     "varRefreshCmd": "cat(var_dic_list()) "
    }
   },
   "types_to_exclude": [
    "module",
    "function",
    "builtin_function_or_method",
    "instance",
    "_Feature"
   ],
   "window_display": false
  }
 },
 "nbformat": 4,
 "nbformat_minor": 2
}
