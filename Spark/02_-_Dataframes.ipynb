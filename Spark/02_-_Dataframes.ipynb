{
 "cells": [
  {
   "cell_type": "code",
   "execution_count": 1,
   "metadata": {},
   "outputs": [],
   "source": [
    "import os, sys, json, collections, itertools\n",
    "from pyspark import SparkContext, SparkConf\n",
    "from pyspark.sql import SparkSession\n",
    "\n",
    "local_dir = \"file:///{d}/\".format(d=os.getcwd())\n",
    "\n",
    "if 'sc' not in globals():\n",
    "    conf = SparkConf().setAppName('appName').setMaster('local')\n",
    "    sc = SparkContext(conf=conf)\n",
    "    spark = SparkSession(sc)"
   ]
  },
  {
   "cell_type": "markdown",
   "metadata": {},
   "source": [
    "## DataFrames fundamentals"
   ]
  },
  {
   "cell_type": "markdown",
   "metadata": {},
   "source": [
    "Each record in the \"dessert\" dataset describes a group visit at a restaurant. Read the data and answer the questions below."
   ]
  },
  {
   "cell_type": "code",
   "execution_count": 2,
   "metadata": {},
   "outputs": [
    {
     "name": "stdout",
     "output_type": "stream",
     "text": [
      "+--------+-------------+----------+-----+--------+\n",
      "| weekday|num_of_guests|     shift|table|purchase|\n",
      "+--------+-------------+----------+-----+--------+\n",
      "|  Monday|            2|   evening|   13|    true|\n",
      "|Saturday|            4|     night|   19|    true|\n",
      "|Saturday|            4|after-noon|   12|   false|\n",
      "|Thursday|            3|     night|    5|    true|\n",
      "|  Monday|            7|      noon|   10|    true|\n",
      "+--------+-------------+----------+-----+--------+\n",
      "only showing top 5 rows\n",
      "\n"
     ]
    }
   ],
   "source": [
    "dessert = spark.read.csv(\"dessert.csv\", \n",
    "                         header=True, inferSchema=True)\\\n",
    "  .drop('id')\\\n",
    "  .withColumnRenamed('day.of.week', 'weekday')\\\n",
    "  .withColumnRenamed('num.of.guests', 'num_of_guests')\\\n",
    "  .withColumnRenamed('dessert', 'purchase')\\\n",
    "  .withColumnRenamed('hour', 'shift')\n",
    "dessert.show(5)"
   ]
  },
  {
   "cell_type": "code",
   "execution_count": 3,
   "metadata": {},
   "outputs": [
    {
     "name": "stdout",
     "output_type": "stream",
     "text": [
      "root\n",
      " |-- weekday: string (nullable = true)\n",
      " |-- num_of_guests: integer (nullable = true)\n",
      " |-- shift: string (nullable = true)\n",
      " |-- table: integer (nullable = true)\n",
      " |-- purchase: boolean (nullable = true)\n",
      "\n"
     ]
    }
   ],
   "source": [
    "dessert.printSchema()"
   ]
  },
  {
   "cell_type": "markdown",
   "metadata": {},
   "source": [
    "The DataframeReader object used above is sometimes confusing, so I show below how to first load the data as an RDD, and then modify it into a dataFrame. During this process we also remove the header using a combination of _zipWithIndex()_ and _filter()_ (taken from [here][1]). By looking at the file we see the \"schema\", which is used by the second _map()_.\n",
    "\n",
    "[1]: http://stackoverflow.com/a/31798247/3121900"
   ]
  },
  {
   "cell_type": "code",
   "execution_count": 4,
   "metadata": {},
   "outputs": [
    {
     "name": "stdout",
     "output_type": "stream",
     "text": [
      "+--------+-------------+----------+-----+--------+\n",
      "| weekday|num_of_guests|     shift|table|purchase|\n",
      "+--------+-------------+----------+-----+--------+\n",
      "|  Monday|            2|   evening|   13|    true|\n",
      "|Saturday|            4|     night|   19|    true|\n",
      "|Saturday|            4|after-noon|   12|   false|\n",
      "|Thursday|            3|     night|    5|    true|\n",
      "|  Monday|            7|      noon|   10|    true|\n",
      "+--------+-------------+----------+-----+--------+\n",
      "only showing top 5 rows\n",
      "\n"
     ]
    }
   ],
   "source": [
    "dessert_rdd = sc\\\n",
    "    .textFile(\"dessert.csv\")\\\n",
    "    .map(lambda line: line.split(','))\\\n",
    "    .zipWithIndex()\\\n",
    "    .filter(lambda tup: tup[1] > 0)\\\n",
    "    .map(lambda tup: [tup[0][1],           # weekday\n",
    "                      int(tup[0][2]),      # num_of_guests\n",
    "                      tup[0][3],           # shift\n",
    "                      int(tup[0][4]),      # table\n",
    "                      tup[0][5]=='TRUE'])  # purchase\n",
    "\n",
    "columns = ['weekday', 'num_of_guests', 'shift', 'table', 'purchase']\n",
    "dessert = spark.createDataFrame(dessert_rdd,\n",
    "                                schema=columns)\n",
    "dessert.show(5)"
   ]
  },
  {
   "cell_type": "markdown",
   "metadata": {},
   "source": [
    "### Question 1"
   ]
  },
  {
   "cell_type": "markdown",
   "metadata": {},
   "source": [
    "How many groups purchased a dessert?"
   ]
  },
  {
   "cell_type": "code",
   "execution_count": 5,
   "metadata": {},
   "outputs": [
    {
     "data": {
      "text/plain": [
       "573"
      ]
     },
     "execution_count": 5,
     "metadata": {},
     "output_type": "execute_result"
    }
   ],
   "source": [
    "col = dessert.purchase\n",
    "dessert.where(col).count()"
   ]
  },
  {
   "cell_type": "markdown",
   "metadata": {},
   "source": [
    "### Question 2"
   ]
  },
  {
   "cell_type": "markdown",
   "metadata": {},
   "source": [
    "How many groups purchased a dessert on Mondays?"
   ]
  },
  {
   "cell_type": "code",
   "execution_count": 6,
   "metadata": {},
   "outputs": [
    {
     "data": {
      "text/plain": [
       "66"
      ]
     },
     "execution_count": 6,
     "metadata": {},
     "output_type": "execute_result"
    }
   ],
   "source": [
    "col = (dessert.weekday == 'Monday') & (dessert.purchase)\n",
    "dessert.where(col).count()"
   ]
  },
  {
   "cell_type": "markdown",
   "metadata": {},
   "source": [
    "### Question 3"
   ]
  },
  {
   "cell_type": "markdown",
   "metadata": {},
   "source": [
    "How many _visitors_ purchased a dessert?"
   ]
  },
  {
   "cell_type": "code",
   "execution_count": 7,
   "metadata": {},
   "outputs": [
    {
     "name": "stdout",
     "output_type": "stream",
     "text": [
      "+------------------+------------------+\n",
      "|sum(num_of_guests)|        avg(table)|\n",
      "+------------------+------------------+\n",
      "|              1913|11.849912739965095|\n",
      "+------------------+------------------+\n",
      "\n"
     ]
    }
   ],
   "source": [
    "dessert\\\n",
    "    .where(dessert.purchase)\\\n",
    "    .agg({'num_of_guests': 'sum', 'table': 'mean'})\\\n",
    "    .show()"
   ]
  },
  {
   "cell_type": "markdown",
   "metadata": {},
   "source": [
    "### Question 4"
   ]
  },
  {
   "cell_type": "markdown",
   "metadata": {},
   "source": [
    "For each weekday - how many groups purchased a dessert?"
   ]
  },
  {
   "cell_type": "code",
   "execution_count": 8,
   "metadata": {},
   "outputs": [
    {
     "name": "stdout",
     "output_type": "stream",
     "text": [
      "+---------+------------+------------------+\n",
      "|  weekday|count(shift)|sum(num_of_guests)|\n",
      "+---------+------------+------------------+\n",
      "|Wednesday|          91|               297|\n",
      "|  Tuesday|          89|               306|\n",
      "|   Friday|          77|               281|\n",
      "| Thursday|          69|               238|\n",
      "| Saturday|         128|               411|\n",
      "|   Monday|          66|               211|\n",
      "|   Sunday|          53|               169|\n",
      "+---------+------------+------------------+\n",
      "\n"
     ]
    }
   ],
   "source": [
    "dessert\\\n",
    "    .where(dessert.purchase)\\\n",
    "    .groupBy('weekday')\\\n",
    "    .agg({'shift': 'count', 'num_of_guests': 'sum'})\\\n",
    "    .show()"
   ]
  },
  {
   "cell_type": "markdown",
   "metadata": {},
   "source": [
    "### Question 5"
   ]
  },
  {
   "cell_type": "markdown",
   "metadata": {},
   "source": [
    "Add to _dessert_ a new column called 'no purchase' with the negative of 'purchse'."
   ]
  },
  {
   "cell_type": "code",
   "execution_count": 9,
   "metadata": {},
   "outputs": [
    {
     "name": "stdout",
     "output_type": "stream",
     "text": [
      "+--------+-------------+----------+-----+--------+-----------+\n",
      "| weekday|num_of_guests|     shift|table|purchase|no_purchase|\n",
      "+--------+-------------+----------+-----+--------+-----------+\n",
      "|  Monday|            2|   evening|   13|    true|      false|\n",
      "|Saturday|            4|     night|   19|    true|      false|\n",
      "|Saturday|            4|after-noon|   12|   false|       true|\n",
      "|Thursday|            3|     night|    5|    true|      false|\n",
      "|  Monday|            7|      noon|   10|    true|      false|\n",
      "+--------+-------------+----------+-----+--------+-----------+\n",
      "only showing top 5 rows\n",
      "\n"
     ]
    }
   ],
   "source": [
    "dessert = dessert.withColumn('no_purchase', ~dessert.purchase)\n",
    "dessert.show(5)"
   ]
  },
  {
   "cell_type": "markdown",
   "metadata": {},
   "source": [
    "### Question 6"
   ]
  },
  {
   "cell_type": "markdown",
   "metadata": {},
   "source": [
    "Create a pivot table showing how the purchases were influenced by the size of the group."
   ]
  },
  {
   "cell_type": "code",
   "execution_count": 10,
   "metadata": {},
   "outputs": [
    {
     "name": "stdout",
     "output_type": "stream",
     "text": [
      "+---------------------+------+------+--------+------+--------+-------+---------+\n",
      "|num_of_guests_weekday|Friday|Monday|Saturday|Sunday|Thursday|Tuesday|Wednesday|\n",
      "+---------------------+------+------+--------+------+--------+-------+---------+\n",
      "|                    5|    28|     4|      22|     8|       6|      9|       14|\n",
      "|                   10|     3|     3|       0|     2|       1|      2|        2|\n",
      "|                    1|    32|    11|      15|     8|       7|     17|       17|\n",
      "|                    6|     7|     4|      13|     4|       7|      7|        6|\n",
      "|                    9|     2|     1|       2|     0|       1|      2|        1|\n",
      "|                    2|    66|    38|      69|    36|      35|     38|       36|\n",
      "|                    7|     4|     3|       7|     2|       3|      2|        3|\n",
      "|                    3|    51|    22|      50|    17|      19|     23|       20|\n",
      "|                    8|     0|     1|       2|     1|       2|      0|        2|\n",
      "|                    4|    41|    18|      35|    16|      21|     25|       24|\n",
      "+---------------------+------+------+--------+------+--------+-------+---------+\n",
      "\n"
     ]
    }
   ],
   "source": [
    "dessert.crosstab('num_of_guests', 'weekday').show()"
   ]
  },
  {
   "cell_type": "markdown",
   "metadata": {},
   "source": [
    "## Exercise 2:\n",
    "Read the file \"weights\" into an Dataframe and answer the following questions:\n",
    "1. Create a new Dataframe with the data of the males only and call it _males_.\n",
    "1. How many males are in the table? What is the mean height and weight of the males?\n",
    "1. What is the height of the tallest female who is older than 40?\n",
    "1. Create a new Dataframe with two columns for the age and the average weight of the people in this age."
   ]
  },
  {
   "cell_type": "markdown",
   "metadata": {},
   "source": [
    "## User defined functions\n",
    "\n",
    "Python functions cannot be run directly in dataframes. python types need to be converted to scala data types."
   ]
  },
  {
   "cell_type": "code",
   "execution_count": 11,
   "metadata": {},
   "outputs": [],
   "source": [
    "import pyspark.sql.functions as F\n",
    "import pyspark.sql.types as T\n",
    "from inspect import signature\n",
    "\n",
    "def str_reverese(s):\n",
    "    return \"\".join(reversed(s))\n",
    "\n",
    "str_reverese_udf = F.UserDefinedFunction(str_reverese, T.StringType())"
   ]
  },
  {
   "cell_type": "code",
   "execution_count": 12,
   "metadata": {},
   "outputs": [
    {
     "name": "stdout",
     "output_type": "stream",
     "text": [
      "+---------+-------------+----------+-----+--------+-----------+--------------+\n",
      "|  weekday|num_of_guests|     shift|table|purchase|no_purchase|shift_reversed|\n",
      "+---------+-------------+----------+-----+--------+-----------+--------------+\n",
      "|   Monday|            2|   evening|   13|    true|      false|       gnineve|\n",
      "| Saturday|            4|     night|   19|    true|      false|         thgin|\n",
      "| Saturday|            4|after-noon|   12|   false|       true|    noon-retfa|\n",
      "| Thursday|            3|     night|    5|    true|      false|         thgin|\n",
      "|   Monday|            7|      noon|   10|    true|      false|          noon|\n",
      "|   Friday|            2|   evening|   19|   false|       true|       gnineve|\n",
      "|   Monday|            2|   evening|   22|    true|      false|       gnineve|\n",
      "|   Sunday|            4|      noon|    4|    true|      false|          noon|\n",
      "| Thursday|            4|   evening|    9|   false|       true|       gnineve|\n",
      "| Thursday|            1|      noon|   17|    true|      false|          noon|\n",
      "|   Friday|            4|      noon|   23|    true|      false|          noon|\n",
      "|   Friday|            6|   evening|   10|    true|      false|       gnineve|\n",
      "|   Friday|            4|      noon|    4|    true|      false|          noon|\n",
      "|Wednesday|            2|     night|   19|   false|       true|         thgin|\n",
      "| Saturday|            8|      noon|   19|    true|      false|          noon|\n",
      "|Wednesday|            3|   evening|   21|    true|      false|       gnineve|\n",
      "|  Tuesday|            1|   evening|   17|    true|      false|       gnineve|\n",
      "|Wednesday|            1|   evening|   11|    true|      false|       gnineve|\n",
      "|   Sunday|            2|   evening|    2|   false|       true|       gnineve|\n",
      "| Saturday|            2|     night|   17|    true|      false|         thgin|\n",
      "+---------+-------------+----------+-----+--------+-----------+--------------+\n",
      "only showing top 20 rows\n",
      "\n"
     ]
    }
   ],
   "source": [
    "dessert = dessert.withColumn('shift_reversed', str_reverese_udf(F.col(\"shift\")))\n",
    "dessert.show()"
   ]
  },
  {
   "cell_type": "markdown",
   "metadata": {},
   "source": [
    "### A little hack\n",
    "\n",
    "I wrote a convinience decorator in order to use python3 type annotations.\n",
    "\n",
    "This code is **unofficial**, it uses **undocumented** features of spark, but it is very useful."
   ]
  },
  {
   "cell_type": "code",
   "execution_count": 15,
   "metadata": {},
   "outputs": [],
   "source": [
    "def udf(f):\n",
    "    returnType = T._type_mappings[signature(f).return_annotation]()\n",
    "    return F.UserDefinedFunction(f, returnType)"
   ]
  },
  {
   "cell_type": "code",
   "execution_count": 16,
   "metadata": {},
   "outputs": [
    {
     "name": "stdout",
     "output_type": "stream",
     "text": [
      "+---------+-------------+----------+-----+--------+-----------+--------------+---------------+\n",
      "|  weekday|num_of_guests|     shift|table|purchase|no_purchase|shift_reversed|shift_reversed2|\n",
      "+---------+-------------+----------+-----+--------+-----------+--------------+---------------+\n",
      "|   Monday|            2|   evening|   13|    true|      false|       gnineve|        gnineve|\n",
      "| Saturday|            4|     night|   19|    true|      false|         thgin|          thgin|\n",
      "| Saturday|            4|after-noon|   12|   false|       true|    noon-retfa|     noon-retfa|\n",
      "| Thursday|            3|     night|    5|    true|      false|         thgin|          thgin|\n",
      "|   Monday|            7|      noon|   10|    true|      false|          noon|           noon|\n",
      "|   Friday|            2|   evening|   19|   false|       true|       gnineve|        gnineve|\n",
      "|   Monday|            2|   evening|   22|    true|      false|       gnineve|        gnineve|\n",
      "|   Sunday|            4|      noon|    4|    true|      false|          noon|           noon|\n",
      "| Thursday|            4|   evening|    9|   false|       true|       gnineve|        gnineve|\n",
      "| Thursday|            1|      noon|   17|    true|      false|          noon|           noon|\n",
      "|   Friday|            4|      noon|   23|    true|      false|          noon|           noon|\n",
      "|   Friday|            6|   evening|   10|    true|      false|       gnineve|        gnineve|\n",
      "|   Friday|            4|      noon|    4|    true|      false|          noon|           noon|\n",
      "|Wednesday|            2|     night|   19|   false|       true|         thgin|          thgin|\n",
      "| Saturday|            8|      noon|   19|    true|      false|          noon|           noon|\n",
      "|Wednesday|            3|   evening|   21|    true|      false|       gnineve|        gnineve|\n",
      "|  Tuesday|            1|   evening|   17|    true|      false|       gnineve|        gnineve|\n",
      "|Wednesday|            1|   evening|   11|    true|      false|       gnineve|        gnineve|\n",
      "|   Sunday|            2|   evening|    2|   false|       true|       gnineve|        gnineve|\n",
      "| Saturday|            2|     night|   17|    true|      false|         thgin|          thgin|\n",
      "+---------+-------------+----------+-----+--------+-----------+--------------+---------------+\n",
      "only showing top 20 rows\n",
      "\n"
     ]
    }
   ],
   "source": [
    "@udf\n",
    "def str_reverese(s)->str:\n",
    "    return \"\".join(reversed(s))\n",
    "\n",
    "dessert = dessert.withColumn('shift_reversed2', str_reverese_udf(F.col(\"shift\")))\n",
    "dessert.show()"
   ]
  },
  {
   "cell_type": "markdown",
   "metadata": {},
   "source": [
    "For more complex types, use:\n",
    "https://github.com/urigoren/decorators4DS/blob/master/decorators4DS/pyspark_udf.py"
   ]
  },
  {
   "cell_type": "markdown",
   "metadata": {},
   "source": [
    "## Exercise 3:\n",
    "\n",
    "Write a user-defined-function that calculates the total amount of calories consumed.\n",
    "\n",
    "1. Hamburger = 300 cal\n",
    "1. Icecream ball = 130 cal"
   ]
  },
  {
   "cell_type": "code",
   "execution_count": 23,
   "metadata": {},
   "outputs": [
    {
     "name": "stdout",
     "output_type": "stream",
     "text": [
      "+---+----------+-----------+----------+---------------+---------+\n",
      "| id|jogging.km|spinning.hr|hamburgers|ice.cream.balls|change.kg|\n",
      "+---+----------+-----------+----------+---------------+---------+\n",
      "|  1|       269|         29|         6|             35|     -7.5|\n",
      "|  2|        79|         10|        13|             23|     -0.9|\n",
      "|  3|       112|         46|         4|             22|     -6.1|\n",
      "|  4|       172|         27|        14|             28|     -4.7|\n",
      "|  5|       273|         31|        29|             47|     -7.0|\n",
      "|  6|        60|         12|        23|             11|      1.2|\n",
      "|  7|       270|         13|        28|             11|     -6.8|\n",
      "|  8|       284|         36|        14|             21|     -8.9|\n",
      "|  9|       198|         35|        18|             17|     -6.1|\n",
      "| 10|       189|          4|        15|             44|     -1.3|\n",
      "| 11|        18|          2|         3|              9|      0.7|\n",
      "| 12|        61|         39|         7|             25|     -2.0|\n",
      "| 13|        53|         56|        15|             21|     -4.3|\n",
      "| 14|       206|         36|        11|             28|     -7.2|\n",
      "| 15|       115|         34|        28|             33|     -0.6|\n",
      "| 16|       231|         32|        16|             49|     -4.7|\n",
      "| 17|       149|         60|         9|             11|    -10.5|\n",
      "| 18|       216|         30|         8|             12|     -7.6|\n",
      "| 19|       298|         41|        24|             40|     -8.0|\n",
      "| 20|       114|         36|        21|             42|      1.5|\n",
      "+---+----------+-----------+----------+---------------+---------+\n",
      "only showing top 20 rows\n",
      "\n"
     ]
    }
   ],
   "source": [
    "diet = spark.read.csv(\"diet.txt\", \n",
    "                         header=True, inferSchema=True, sep=';')\n",
    "sdf.show()"
   ]
  },
  {
   "cell_type": "code",
   "execution_count": null,
   "metadata": {},
   "outputs": [],
   "source": []
  }
 ],
 "metadata": {
  "kernelspec": {
   "display_name": "Python 3",
   "language": "python",
   "name": "python3"
  },
  "language_info": {
   "codemirror_mode": {
    "name": "ipython",
    "version": 3
   },
   "file_extension": ".py",
   "mimetype": "text/x-python",
   "name": "python",
   "nbconvert_exporter": "python",
   "pygments_lexer": "ipython3",
   "version": "3.7.4"
  },
  "name": "Introduction to PySpark",
  "notebookId": 2317684797154294
 },
 "nbformat": 4,
 "nbformat_minor": 2
}
