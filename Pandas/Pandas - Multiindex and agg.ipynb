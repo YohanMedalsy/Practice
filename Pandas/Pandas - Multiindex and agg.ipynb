{
 "cells": [
  {
   "cell_type": "code",
   "execution_count": 1,
   "metadata": {
    "ExecuteTime": {
     "end_time": "2019-05-25T11:19:59.640606Z",
     "start_time": "2019-05-25T11:19:59.627685Z"
    },
    "hide_input": true
   },
   "outputs": [
    {
     "data": {
      "text/html": [
       "\n",
       "<script>\n",
       "var logoParent = document.getElementById(\"kernel_logo_widget\")\n",
       "var logo = document.getElementById(\"kernel_logo_widget\").getElementsByClassName(\"current_kernel_logo\")[0];\n",
       "logo.src = \"https://i.ibb.co/mD4jTGQ/itclogo.jpg\";\n",
       "logo.style = \"display: inline; width:138px; height:40px\";\n",
       "logoParent.innerHTML = '<a href=\"https://i.ibb.co/mD4jTGQ/itclogo.jpg\">' + logoParent.innerHTML + '</a>';\n",
       "</script>\n"
      ],
      "text/plain": [
       "<IPython.core.display.HTML object>"
      ]
     },
     "execution_count": 1,
     "metadata": {},
     "output_type": "execute_result"
    }
   ],
   "source": [
    "from IPython.core.display import HTML\n",
    "HTML('''\n",
    "<script>\n",
    "var logoParent = document.getElementById(\"kernel_logo_widget\")\n",
    "var logo = document.getElementById(\"kernel_logo_widget\").getElementsByClassName(\"current_kernel_logo\")[0];\n",
    "logo.src = \"https://i.ibb.co/mD4jTGQ/itclogo.jpg\";\n",
    "logo.style = \"display: inline; width:138px; height:40px\";\n",
    "logoParent.innerHTML = '<a href=\"https://i.ibb.co/mD4jTGQ/itclogo.jpg\">' + logoParent.innerHTML + '</a>';\n",
    "</script>\n",
    "''')"
   ]
  },
  {
   "cell_type": "markdown",
   "metadata": {
    "ExecuteTime": {
     "end_time": "2019-05-15T13:46:40.531687Z",
     "start_time": "2019-05-15T13:46:40.525001Z"
    },
    "hide_input": true
   },
   "source": [
    "<font size=\"36\"><b>Pandas - Multi-Index and Aggregation Assignment</b></font> <img src = \"https://s3-ap-south-1.amazonaws.com/av-blog-media/wp-content/uploads/2018/03/pandas.jpg\" height=200 width=200>"
   ]
  },
  {
   "cell_type": "code",
   "execution_count": 2,
   "metadata": {
    "ExecuteTime": {
     "end_time": "2019-05-25T09:45:37.219325Z",
     "start_time": "2019-05-25T09:45:36.434346Z"
    }
   },
   "outputs": [],
   "source": [
    "import pandas as pd"
   ]
  },
  {
   "cell_type": "markdown",
   "metadata": {},
   "source": [
    "For this assignement, we will work with the [tips dataset](https://raw.githubusercontent.com/mwaskom/seaborn-data/master/tips.csv). "
   ]
  },
  {
   "cell_type": "code",
   "execution_count": 3,
   "metadata": {
    "ExecuteTime": {
     "end_time": "2019-05-25T10:04:07.372533Z",
     "start_time": "2019-05-25T10:04:06.655160Z"
    }
   },
   "outputs": [],
   "source": [
    "df_tips = pd.read_csv('https://raw.githubusercontent.com/mwaskom/seaborn-data/master/tips.csv')"
   ]
  },
  {
   "cell_type": "markdown",
   "metadata": {},
   "source": [
    "# Assignment"
   ]
  },
  {
   "cell_type": "markdown",
   "metadata": {},
   "source": [
    "Answer the following questions:\n",
    "\n",
    " 1. Calculate the average % of tips out of the total bill that Females leave, vs. Men. Present the data in one dataframe\n",
    " 2. Calculate the average % of tips out of the total bill that Smoker Females leave, vs. Smoker Men, vs. non-smoking Men and Females. Present the data in one dataframe\n",
    " 3. Find the day and the time in which the most tip is paid (in absolute value)\n",
    " 4. Create an aggregative function that finds the top 5 highest vaslues in a series, and returns their sum's % out of the entire series. Use in on the data with the `agg` operator, to find the top 5 bills average, out of the total bills in each time and day\n",
    " 5. Calculate the sum of bills per group: non-smoking Men, non-smoking Females, smoking Females and smoking Men. Code it so you get a data frame with the columns \"Female\" and \"Male\", below a larger column \"total_bill\" (hierarchical index)\n",
    " 6. Add another index \"day\" to Q5, do that we can see the conclusion per day per smokers group per gender\n",
    " 7. Take the result from Q6, and now aggregate by `mean`, `std`, and `sum`\n",
    " 8. Create a series of plots that present your findings from Q7. Make your plots informative. Make sure that all of the conclusions from the dataframe can be seen in the series of graphs."
   ]
  },
  {
   "cell_type": "markdown",
   "metadata": {},
   "source": [
    "<div class=\"alert alert-info\"><b>Note:</b> Try to answer the questions with one line of code, using the '.' pipe operator, when possible</div>"
   ]
  },
  {
   "cell_type": "markdown",
   "metadata": {},
   "source": [
    "## Q1"
   ]
  },
  {
   "cell_type": "code",
   "execution_count": 6,
   "metadata": {},
   "outputs": [
    {
     "data": {
      "text/html": [
       "<div>\n",
       "<style scoped>\n",
       "    .dataframe tbody tr th:only-of-type {\n",
       "        vertical-align: middle;\n",
       "    }\n",
       "\n",
       "    .dataframe tbody tr th {\n",
       "        vertical-align: top;\n",
       "    }\n",
       "\n",
       "    .dataframe thead th {\n",
       "        text-align: right;\n",
       "    }\n",
       "</style>\n",
       "<table border=\"1\" class=\"dataframe\">\n",
       "  <thead>\n",
       "    <tr style=\"text-align: right;\">\n",
       "      <th></th>\n",
       "      <th>sex</th>\n",
       "      <th>average tip%</th>\n",
       "    </tr>\n",
       "  </thead>\n",
       "  <tbody>\n",
       "    <tr>\n",
       "      <th>0</th>\n",
       "      <td>Female</td>\n",
       "      <td>16.649074</td>\n",
       "    </tr>\n",
       "    <tr>\n",
       "      <th>1</th>\n",
       "      <td>Male</td>\n",
       "      <td>15.765055</td>\n",
       "    </tr>\n",
       "  </tbody>\n",
       "</table>\n",
       "</div>"
      ],
      "text/plain": [
       "      sex  average tip%\n",
       "0  Female     16.649074\n",
       "1    Male     15.765055"
      ]
     },
     "execution_count": 6,
     "metadata": {},
     "output_type": "execute_result"
    }
   ],
   "source": [
    "def tip_per(x):\n",
    "    return x.tip/x.total_bill*100\n",
    "\n",
    "pd.DataFrame(df_tips.groupby('sex').apply(tip_per).mean(level=0), columns = ['average tip%']).reset_index()"
   ]
  },
  {
   "cell_type": "markdown",
   "metadata": {},
   "source": [
    "## Q2"
   ]
  },
  {
   "cell_type": "code",
   "execution_count": 7,
   "metadata": {},
   "outputs": [
    {
     "data": {
      "text/html": [
       "<div>\n",
       "<style scoped>\n",
       "    .dataframe tbody tr th:only-of-type {\n",
       "        vertical-align: middle;\n",
       "    }\n",
       "\n",
       "    .dataframe tbody tr th {\n",
       "        vertical-align: top;\n",
       "    }\n",
       "\n",
       "    .dataframe thead th {\n",
       "        text-align: right;\n",
       "    }\n",
       "</style>\n",
       "<table border=\"1\" class=\"dataframe\">\n",
       "  <thead>\n",
       "    <tr style=\"text-align: right;\">\n",
       "      <th></th>\n",
       "      <th>sex</th>\n",
       "      <th>smoker</th>\n",
       "      <th>average tip%</th>\n",
       "    </tr>\n",
       "  </thead>\n",
       "  <tbody>\n",
       "    <tr>\n",
       "      <th>0</th>\n",
       "      <td>Female</td>\n",
       "      <td>No</td>\n",
       "      <td>15.692097</td>\n",
       "    </tr>\n",
       "    <tr>\n",
       "      <th>1</th>\n",
       "      <td>Female</td>\n",
       "      <td>Yes</td>\n",
       "      <td>18.215035</td>\n",
       "    </tr>\n",
       "    <tr>\n",
       "      <th>2</th>\n",
       "      <td>Male</td>\n",
       "      <td>No</td>\n",
       "      <td>16.066872</td>\n",
       "    </tr>\n",
       "    <tr>\n",
       "      <th>3</th>\n",
       "      <td>Male</td>\n",
       "      <td>Yes</td>\n",
       "      <td>15.277118</td>\n",
       "    </tr>\n",
       "  </tbody>\n",
       "</table>\n",
       "</div>"
      ],
      "text/plain": [
       "      sex smoker  average tip%\n",
       "0  Female     No     15.692097\n",
       "1  Female    Yes     18.215035\n",
       "2    Male     No     16.066872\n",
       "3    Male    Yes     15.277118"
      ]
     },
     "execution_count": 7,
     "metadata": {},
     "output_type": "execute_result"
    }
   ],
   "source": [
    "pd.DataFrame(df_tips.groupby(['sex','smoker']).apply(tip_per).mean(level=[0,1]),columns = ['average tip%']).reset_index()"
   ]
  },
  {
   "cell_type": "markdown",
   "metadata": {},
   "source": [
    "## Q3"
   ]
  },
  {
   "cell_type": "code",
   "execution_count": 8,
   "metadata": {},
   "outputs": [
    {
     "data": {
      "text/plain": [
       "day        Sat\n",
       "time    Dinner\n",
       "Name: 170, dtype: object"
      ]
     },
     "execution_count": 8,
     "metadata": {},
     "output_type": "execute_result"
    }
   ],
   "source": [
    "df_tips.iloc[df_tips['tip'].idxmax()][['day','time']]"
   ]
  },
  {
   "cell_type": "markdown",
   "metadata": {},
   "source": [
    "## Q4"
   ]
  },
  {
   "cell_type": "code",
   "execution_count": 9,
   "metadata": {},
   "outputs": [
    {
     "data": {
      "text/html": [
       "<div>\n",
       "<style scoped>\n",
       "    .dataframe tbody tr th:only-of-type {\n",
       "        vertical-align: middle;\n",
       "    }\n",
       "\n",
       "    .dataframe tbody tr th {\n",
       "        vertical-align: top;\n",
       "    }\n",
       "\n",
       "    .dataframe thead th {\n",
       "        text-align: right;\n",
       "    }\n",
       "</style>\n",
       "<table border=\"1\" class=\"dataframe\">\n",
       "  <thead>\n",
       "    <tr style=\"text-align: right;\">\n",
       "      <th></th>\n",
       "      <th>time</th>\n",
       "      <th>day</th>\n",
       "      <th>% average top 5 bills</th>\n",
       "    </tr>\n",
       "  </thead>\n",
       "  <tbody>\n",
       "    <tr>\n",
       "      <th>0</th>\n",
       "      <td>Dinner</td>\n",
       "      <td>Fri</td>\n",
       "      <td>60.035599</td>\n",
       "    </tr>\n",
       "    <tr>\n",
       "      <th>1</th>\n",
       "      <td>Dinner</td>\n",
       "      <td>Sat</td>\n",
       "      <td>12.996514</td>\n",
       "    </tr>\n",
       "    <tr>\n",
       "      <th>2</th>\n",
       "      <td>Dinner</td>\n",
       "      <td>Sun</td>\n",
       "      <td>12.746134</td>\n",
       "    </tr>\n",
       "    <tr>\n",
       "      <th>3</th>\n",
       "      <td>Dinner</td>\n",
       "      <td>Thur</td>\n",
       "      <td>100.000000</td>\n",
       "    </tr>\n",
       "    <tr>\n",
       "      <th>4</th>\n",
       "      <td>Lunch</td>\n",
       "      <td>Fri</td>\n",
       "      <td>79.237100</td>\n",
       "    </tr>\n",
       "    <tr>\n",
       "      <th>5</th>\n",
       "      <td>Lunch</td>\n",
       "      <td>Thur</td>\n",
       "      <td>17.271588</td>\n",
       "    </tr>\n",
       "  </tbody>\n",
       "</table>\n",
       "</div>"
      ],
      "text/plain": [
       "     time   day  % average top 5 bills\n",
       "0  Dinner   Fri              60.035599\n",
       "1  Dinner   Sat              12.996514\n",
       "2  Dinner   Sun              12.746134\n",
       "3  Dinner  Thur             100.000000\n",
       "4   Lunch   Fri              79.237100\n",
       "5   Lunch  Thur              17.271588"
      ]
     },
     "execution_count": 9,
     "metadata": {},
     "output_type": "execute_result"
    }
   ],
   "source": [
    "#This question is doable in 1 line by piping but I chose to do it on 2 lines to make it more readable.\n",
    "def aggr_func(my_series):\n",
    "    return my_series.nlargest(5).sum()/my_series.sum()*100 \n",
    "\n",
    "top5_bill_df = pd.DataFrame(df_tips.groupby(['time','day'])['total_bill'].agg(aggr_func)).reset_index()\n",
    "top5_bill_df.rename(columns = {'total_bill': '% average top 5 bills'},inplace = True)\n",
    "top5_bill_df"
   ]
  },
  {
   "cell_type": "markdown",
   "metadata": {},
   "source": [
    "## Q5"
   ]
  },
  {
   "cell_type": "code",
   "execution_count": 10,
   "metadata": {},
   "outputs": [
    {
     "data": {
      "text/html": [
       "<div>\n",
       "<style scoped>\n",
       "    .dataframe tbody tr th:only-of-type {\n",
       "        vertical-align: middle;\n",
       "    }\n",
       "\n",
       "    .dataframe tbody tr th {\n",
       "        vertical-align: top;\n",
       "    }\n",
       "\n",
       "    .dataframe thead tr th {\n",
       "        text-align: left;\n",
       "    }\n",
       "\n",
       "    .dataframe thead tr:last-of-type th {\n",
       "        text-align: right;\n",
       "    }\n",
       "</style>\n",
       "<table border=\"1\" class=\"dataframe\">\n",
       "  <thead>\n",
       "    <tr>\n",
       "      <th></th>\n",
       "      <th colspan=\"2\" halign=\"left\">total_bill</th>\n",
       "    </tr>\n",
       "    <tr>\n",
       "      <th>sex</th>\n",
       "      <th>Female</th>\n",
       "      <th>Male</th>\n",
       "    </tr>\n",
       "    <tr>\n",
       "      <th>smoker</th>\n",
       "      <th></th>\n",
       "      <th></th>\n",
       "    </tr>\n",
       "  </thead>\n",
       "  <tbody>\n",
       "    <tr>\n",
       "      <th>No</th>\n",
       "      <td>977.68</td>\n",
       "      <td>1919.75</td>\n",
       "    </tr>\n",
       "    <tr>\n",
       "      <th>Yes</th>\n",
       "      <td>593.27</td>\n",
       "      <td>1337.07</td>\n",
       "    </tr>\n",
       "  </tbody>\n",
       "</table>\n",
       "</div>"
      ],
      "text/plain": [
       "       total_bill         \n",
       "sex        Female     Male\n",
       "smoker                    \n",
       "No         977.68  1919.75\n",
       "Yes        593.27  1337.07"
      ]
     },
     "execution_count": 10,
     "metadata": {},
     "output_type": "execute_result"
    }
   ],
   "source": [
    "#This question is doable on 1 line by piping but I chose to do it on 2 lines to make it more readable.\n",
    "df_tips_sum = df_tips.groupby(['smoker','sex']).aggregate(sum).total_bill\n",
    "df_unstacked = pd.DataFrame(df_tips_sum).unstack()\n",
    "df_unstacked"
   ]
  },
  {
   "cell_type": "markdown",
   "metadata": {},
   "source": [
    "## Q6"
   ]
  },
  {
   "cell_type": "code",
   "execution_count": 15,
   "metadata": {
    "ExecuteTime": {
     "end_time": "2019-05-25T10:59:26.549464Z",
     "start_time": "2019-05-25T10:59:26.545475Z"
    }
   },
   "outputs": [
    {
     "data": {
      "text/html": [
       "<div>\n",
       "<style scoped>\n",
       "    .dataframe tbody tr th:only-of-type {\n",
       "        vertical-align: middle;\n",
       "    }\n",
       "\n",
       "    .dataframe tbody tr th {\n",
       "        vertical-align: top;\n",
       "    }\n",
       "\n",
       "    .dataframe thead tr th {\n",
       "        text-align: left;\n",
       "    }\n",
       "\n",
       "    .dataframe thead tr:last-of-type th {\n",
       "        text-align: right;\n",
       "    }\n",
       "</style>\n",
       "<table border=\"1\" class=\"dataframe\">\n",
       "  <thead>\n",
       "    <tr>\n",
       "      <th></th>\n",
       "      <th></th>\n",
       "      <th colspan=\"2\" halign=\"left\">total_bill</th>\n",
       "    </tr>\n",
       "    <tr>\n",
       "      <th></th>\n",
       "      <th>sex</th>\n",
       "      <th>Female</th>\n",
       "      <th>Male</th>\n",
       "    </tr>\n",
       "    <tr>\n",
       "      <th>smoker</th>\n",
       "      <th>day</th>\n",
       "      <th></th>\n",
       "      <th></th>\n",
       "    </tr>\n",
       "  </thead>\n",
       "  <tbody>\n",
       "    <tr>\n",
       "      <th rowspan=\"4\" valign=\"top\">No</th>\n",
       "      <th>Fri</th>\n",
       "      <td>38.73</td>\n",
       "      <td>34.95</td>\n",
       "    </tr>\n",
       "    <tr>\n",
       "      <th>Sat</th>\n",
       "      <td>247.05</td>\n",
       "      <td>637.73</td>\n",
       "    </tr>\n",
       "    <tr>\n",
       "      <th>Sun</th>\n",
       "      <td>291.54</td>\n",
       "      <td>877.34</td>\n",
       "    </tr>\n",
       "    <tr>\n",
       "      <th>Thur</th>\n",
       "      <td>400.36</td>\n",
       "      <td>369.73</td>\n",
       "    </tr>\n",
       "    <tr>\n",
       "      <th rowspan=\"4\" valign=\"top\">Yes</th>\n",
       "      <th>Fri</th>\n",
       "      <td>88.58</td>\n",
       "      <td>163.62</td>\n",
       "    </tr>\n",
       "    <tr>\n",
       "      <th>Sat</th>\n",
       "      <td>304.00</td>\n",
       "      <td>589.62</td>\n",
       "    </tr>\n",
       "    <tr>\n",
       "      <th>Sun</th>\n",
       "      <td>66.16</td>\n",
       "      <td>392.12</td>\n",
       "    </tr>\n",
       "    <tr>\n",
       "      <th>Thur</th>\n",
       "      <td>134.53</td>\n",
       "      <td>191.71</td>\n",
       "    </tr>\n",
       "  </tbody>\n",
       "</table>\n",
       "</div>"
      ],
      "text/plain": [
       "            total_bill        \n",
       "sex             Female    Male\n",
       "smoker day                    \n",
       "No     Fri       38.73   34.95\n",
       "       Sat      247.05  637.73\n",
       "       Sun      291.54  877.34\n",
       "       Thur     400.36  369.73\n",
       "Yes    Fri       88.58  163.62\n",
       "       Sat      304.00  589.62\n",
       "       Sun       66.16  392.12\n",
       "       Thur     134.53  191.71"
      ]
     },
     "execution_count": 15,
     "metadata": {},
     "output_type": "execute_result"
    }
   ],
   "source": [
    "#This question is doable on 1 line by piping but I chose to do it on 2 lines to make it more readable.\n",
    "df_tips_sum = df_tips.groupby(['smoker', 'day','sex']).aggregate(sum).total_bill\n",
    "df_unstacked = pd.DataFrame(df_tips_sum).unstack()\n",
    "df_unstacked"
   ]
  },
  {
   "cell_type": "markdown",
   "metadata": {},
   "source": [
    "# Q7"
   ]
  },
  {
   "cell_type": "code",
   "execution_count": 36,
   "metadata": {
    "ExecuteTime": {
     "end_time": "2019-05-25T11:03:34.875991Z",
     "start_time": "2019-05-25T11:03:34.872036Z"
    }
   },
   "outputs": [
    {
     "data": {
      "text/html": [
       "<div>\n",
       "<style scoped>\n",
       "    .dataframe tbody tr th:only-of-type {\n",
       "        vertical-align: middle;\n",
       "    }\n",
       "\n",
       "    .dataframe tbody tr th {\n",
       "        vertical-align: top;\n",
       "    }\n",
       "\n",
       "    .dataframe thead tr th {\n",
       "        text-align: left;\n",
       "    }\n",
       "\n",
       "    .dataframe thead tr:last-of-type th {\n",
       "        text-align: right;\n",
       "    }\n",
       "</style>\n",
       "<table border=\"1\" class=\"dataframe\">\n",
       "  <thead>\n",
       "    <tr>\n",
       "      <th></th>\n",
       "      <th></th>\n",
       "      <th colspan=\"2\" halign=\"left\">mean</th>\n",
       "      <th colspan=\"2\" halign=\"left\">std</th>\n",
       "      <th colspan=\"2\" halign=\"left\">sum</th>\n",
       "    </tr>\n",
       "    <tr>\n",
       "      <th></th>\n",
       "      <th>sex</th>\n",
       "      <th>Female</th>\n",
       "      <th>Male</th>\n",
       "      <th>Female</th>\n",
       "      <th>Male</th>\n",
       "      <th>Female</th>\n",
       "      <th>Male</th>\n",
       "    </tr>\n",
       "    <tr>\n",
       "      <th>smoker</th>\n",
       "      <th>day</th>\n",
       "      <th></th>\n",
       "      <th></th>\n",
       "      <th></th>\n",
       "      <th></th>\n",
       "      <th></th>\n",
       "      <th></th>\n",
       "    </tr>\n",
       "  </thead>\n",
       "  <tbody>\n",
       "    <tr>\n",
       "      <th rowspan=\"4\" valign=\"top\">No</th>\n",
       "      <th>Fri</th>\n",
       "      <td>19.365000</td>\n",
       "      <td>17.475000</td>\n",
       "      <td>4.787113</td>\n",
       "      <td>7.092281</td>\n",
       "      <td>38.73</td>\n",
       "      <td>34.95</td>\n",
       "    </tr>\n",
       "    <tr>\n",
       "      <th>Sat</th>\n",
       "      <td>19.003846</td>\n",
       "      <td>19.929063</td>\n",
       "      <td>6.730219</td>\n",
       "      <td>9.779061</td>\n",
       "      <td>247.05</td>\n",
       "      <td>637.73</td>\n",
       "    </tr>\n",
       "    <tr>\n",
       "      <th>Sun</th>\n",
       "      <td>20.824286</td>\n",
       "      <td>20.403256</td>\n",
       "      <td>8.396159</td>\n",
       "      <td>8.140559</td>\n",
       "      <td>291.54</td>\n",
       "      <td>877.34</td>\n",
       "    </tr>\n",
       "    <tr>\n",
       "      <th>Thur</th>\n",
       "      <td>16.014400</td>\n",
       "      <td>18.486500</td>\n",
       "      <td>6.783939</td>\n",
       "      <td>8.739134</td>\n",
       "      <td>400.36</td>\n",
       "      <td>369.73</td>\n",
       "    </tr>\n",
       "    <tr>\n",
       "      <th rowspan=\"4\" valign=\"top\">Yes</th>\n",
       "      <th>Fri</th>\n",
       "      <td>12.654286</td>\n",
       "      <td>20.452500</td>\n",
       "      <td>3.883138</td>\n",
       "      <td>10.943815</td>\n",
       "      <td>88.58</td>\n",
       "      <td>163.62</td>\n",
       "    </tr>\n",
       "    <tr>\n",
       "      <th>Sat</th>\n",
       "      <td>20.266667</td>\n",
       "      <td>21.837778</td>\n",
       "      <td>10.485703</td>\n",
       "      <td>9.988045</td>\n",
       "      <td>304.00</td>\n",
       "      <td>589.62</td>\n",
       "    </tr>\n",
       "    <tr>\n",
       "      <th>Sun</th>\n",
       "      <td>16.540000</td>\n",
       "      <td>26.141333</td>\n",
       "      <td>4.854764</td>\n",
       "      <td>10.693824</td>\n",
       "      <td>66.16</td>\n",
       "      <td>392.12</td>\n",
       "    </tr>\n",
       "    <tr>\n",
       "      <th>Thur</th>\n",
       "      <td>19.218571</td>\n",
       "      <td>19.171000</td>\n",
       "      <td>10.847137</td>\n",
       "      <td>6.757421</td>\n",
       "      <td>134.53</td>\n",
       "      <td>191.71</td>\n",
       "    </tr>\n",
       "  </tbody>\n",
       "</table>\n",
       "</div>"
      ],
      "text/plain": [
       "                  mean                   std                sum        \n",
       "sex             Female       Male     Female       Male  Female    Male\n",
       "smoker day                                                             \n",
       "No     Fri   19.365000  17.475000   4.787113   7.092281   38.73   34.95\n",
       "       Sat   19.003846  19.929063   6.730219   9.779061  247.05  637.73\n",
       "       Sun   20.824286  20.403256   8.396159   8.140559  291.54  877.34\n",
       "       Thur  16.014400  18.486500   6.783939   8.739134  400.36  369.73\n",
       "Yes    Fri   12.654286  20.452500   3.883138  10.943815   88.58  163.62\n",
       "       Sat   20.266667  21.837778  10.485703   9.988045  304.00  589.62\n",
       "       Sun   16.540000  26.141333   4.854764  10.693824   66.16  392.12\n",
       "       Thur  19.218571  19.171000  10.847137   6.757421  134.53  191.71"
      ]
     },
     "execution_count": 36,
     "metadata": {},
     "output_type": "execute_result"
    }
   ],
   "source": [
    "#This question is doable on 1 line by piping but I chose to do it on 2 lines to make it more readable.\n",
    "df_tips_sum = df_tips.groupby(['smoker', 'day','sex']).aggregate(['mean','std','sum']).total_bill\n",
    "df_unstacked = pd.DataFrame(df_tips_sum).unstack()\n",
    "df_unstacked"
   ]
  },
  {
   "cell_type": "markdown",
   "metadata": {},
   "source": [
    "# Q8"
   ]
  },
  {
   "cell_type": "code",
   "execution_count": 40,
   "metadata": {
    "ExecuteTime": {
     "end_time": "2019-05-25T11:04:14.669868Z",
     "start_time": "2019-05-25T11:04:14.666863Z"
    }
   },
   "outputs": [
    {
     "data": {
      "text/plain": [
       "<pandas.core.groupby.generic.DataFrameGroupBy object at 0x1228b2550>"
      ]
     },
     "execution_count": 40,
     "metadata": {},
     "output_type": "execute_result"
    }
   ],
   "source": [
    "import matplotlib.pyplot as plt\n",
    "%matplotlib inline\n",
    "import numpy as np\n",
    "\n",
    "data = df_tips.groupby(['smoker', 'day','sex'])\n",
    "data\n",
    "# fig7, ax7 = plt.subplots()\n",
    "# ax7.set_title('Multiple Samples with Different sizes')\n",
    "# ax7.boxplot(data)\n",
    "\n",
    "# plt.show()\n",
    "# df_tips_sum = df_tips.groupby(['smoker', 'day','sex'])['total_bill'].get_group(\n",
    "# print(df_tips_sum)\n",
    "# df_unstacked = pd.DataFrame(df_tips_sum).unstack()\n",
    "# df_unstacked\n",
    "fig = plt.figure(1, figsize=(20, 10))\n",
    "ax = fig.add_subplot(221)\n",
    "df_tips[df_tips['day']=='Thur'].boxplot(column=['total_bill'], by=['sex', 'smoker'], ax=ax, showmeans=True)\n",
    "ax.set(title=\"Total bills on Thursday by sex and smoker\", xlabel = \"\", ylabel = \"total_bill\")\n",
    "ax = fig.add_subplot(222)\n",
    "df_tips[df_tips['day']=='Fri'].boxplot(column=['total_bill'], by=['sex', 'smoker'], ax=ax, showmeans=True)\n",
    "ax.set(title=\"Total bills on Friday by sex and smoker\", xlabel = \"\", ylabel = \"total_bill\")\n",
    "ax = fig.add_subplot(223)\n",
    "df_tips[df_tips['day']=='Sat'].boxplot(column=['total_bill'], by=['sex', 'smoker'], ax=ax, showmeans=True)\n",
    "ax.set(title=\"Total bills on Saturday by sex and smoker\", xlabel = \"\", ylabel = \"total_bill\")\n",
    "ax = fig.add_subplot(224)\n",
    "df_tips[df_tips['day']=='Sun'].boxplot(column=['total_bill'], by=['sex', 'smoker'], ax=ax, showmeans=True)\n",
    "ax.set(title=\"Total bills on Sunday by sex and smoker\", xlabel = \"\", ylabel = \"total_bill\")\n",
    "fig.tight_layout()\n",
    "fig.subplots_adjust(top=0.85)\n",
    "plt.suptitle(\"Total bill for each day\", size=16)"
   ]
  },
  {
   "cell_type": "code",
   "execution_count": null,
   "metadata": {},
   "outputs": [],
   "source": []
  }
 ],
 "metadata": {
  "kernelspec": {
   "display_name": "Python 3",
   "language": "python",
   "name": "python3"
  },
  "language_info": {
   "codemirror_mode": {
    "name": "ipython",
    "version": 3
   },
   "file_extension": ".py",
   "mimetype": "text/x-python",
   "name": "python",
   "nbconvert_exporter": "python",
   "pygments_lexer": "ipython3",
   "version": "3.7.3"
  },
  "latex_envs": {
   "LaTeX_envs_menu_present": true,
   "autoclose": false,
   "autocomplete": true,
   "bibliofile": "biblio.bib",
   "cite_by": "apalike",
   "current_citInitial": 1,
   "eqLabelWithNumbers": true,
   "eqNumInitial": 1,
   "hotkeys": {
    "equation": "Ctrl-E",
    "itemize": "Ctrl-I"
   },
   "labels_anchors": false,
   "latex_user_defs": false,
   "report_style_numbering": false,
   "user_envs_cfg": false
  },
  "toc": {
   "base_numbering": 1,
   "nav_menu": {},
   "number_sections": true,
   "sideBar": true,
   "skip_h1_title": false,
   "title_cell": "Table of Contents",
   "title_sidebar": "Contents",
   "toc_cell": false,
   "toc_position": {},
   "toc_section_display": true,
   "toc_window_display": false
  }
 },
 "nbformat": 4,
 "nbformat_minor": 2
}
