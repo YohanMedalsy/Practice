{
 "cells": [
  {
   "cell_type": "code",
   "execution_count": 1,
   "metadata": {
    "ExecuteTime": {
     "end_time": "2019-08-03T17:08:32.273468Z",
     "start_time": "2019-08-03T17:08:16.912021Z"
    }
   },
   "outputs": [],
   "source": [
    "import pandas as pd\n",
    "import sklearn\n",
    "from sklearn.model_selection import train_test_split\n",
    "import matplotlib.pyplot as plt\n",
    "%matplotlib inline\n",
    "from sklearn.linear_model import LogisticRegression\n",
    "from sklearn.metrics import confusion_matrix\n",
    "import seaborn as sns\n",
    "import numpy as np"
   ]
  },
  {
   "cell_type": "markdown",
   "metadata": {},
   "source": [
    "# Exercise 1:\n",
    "Consider a cell-phone company that has thousands of customers and is interested in predicting the likelihood that specific customers will be churning in the next 3 months."
   ]
  },
  {
   "cell_type": "code",
   "execution_count": 2,
   "metadata": {
    "ExecuteTime": {
     "end_time": "2019-08-03T17:08:32.713884Z",
     "start_time": "2019-08-03T17:08:32.321763Z"
    }
   },
   "outputs": [
    {
     "data": {
      "text/html": [
       "<div>\n",
       "<style scoped>\n",
       "    .dataframe tbody tr th:only-of-type {\n",
       "        vertical-align: middle;\n",
       "    }\n",
       "\n",
       "    .dataframe tbody tr th {\n",
       "        vertical-align: top;\n",
       "    }\n",
       "\n",
       "    .dataframe thead th {\n",
       "        text-align: right;\n",
       "    }\n",
       "</style>\n",
       "<table border=\"1\" class=\"dataframe\">\n",
       "  <thead>\n",
       "    <tr style=\"text-align: right;\">\n",
       "      <th></th>\n",
       "      <th>is_male</th>\n",
       "      <th>num_interactions_with_cust_service</th>\n",
       "      <th>country</th>\n",
       "      <th>late_on_payment</th>\n",
       "      <th>age</th>\n",
       "      <th>years_in_contract</th>\n",
       "      <th>churned</th>\n",
       "    </tr>\n",
       "  </thead>\n",
       "  <tbody>\n",
       "    <tr>\n",
       "      <th>0</th>\n",
       "      <td>True</td>\n",
       "      <td>0.0</td>\n",
       "      <td>GRE</td>\n",
       "      <td>False</td>\n",
       "      <td>41.0</td>\n",
       "      <td>3.240370</td>\n",
       "      <td>False</td>\n",
       "    </tr>\n",
       "    <tr>\n",
       "      <th>1</th>\n",
       "      <td>True</td>\n",
       "      <td>1.0</td>\n",
       "      <td>ISR</td>\n",
       "      <td>False</td>\n",
       "      <td>29.0</td>\n",
       "      <td>2.121320</td>\n",
       "      <td>False</td>\n",
       "    </tr>\n",
       "    <tr>\n",
       "      <th>2</th>\n",
       "      <td>False</td>\n",
       "      <td>0.0</td>\n",
       "      <td>GRE</td>\n",
       "      <td>False</td>\n",
       "      <td>34.0</td>\n",
       "      <td>3.240370</td>\n",
       "      <td>False</td>\n",
       "    </tr>\n",
       "    <tr>\n",
       "      <th>3</th>\n",
       "      <td>False</td>\n",
       "      <td>1.0</td>\n",
       "      <td>ISR</td>\n",
       "      <td>False</td>\n",
       "      <td>29.0</td>\n",
       "      <td>3.240370</td>\n",
       "      <td>False</td>\n",
       "    </tr>\n",
       "    <tr>\n",
       "      <th>4</th>\n",
       "      <td>True</td>\n",
       "      <td>0.0</td>\n",
       "      <td>ISR</td>\n",
       "      <td>False</td>\n",
       "      <td>33.0</td>\n",
       "      <td>3.082207</td>\n",
       "      <td>False</td>\n",
       "    </tr>\n",
       "  </tbody>\n",
       "</table>\n",
       "</div>"
      ],
      "text/plain": [
       "   is_male  num_interactions_with_cust_service country  late_on_payment   age  \\\n",
       "0     True                                 0.0     GRE            False  41.0   \n",
       "1     True                                 1.0     ISR            False  29.0   \n",
       "2    False                                 0.0     GRE            False  34.0   \n",
       "3    False                                 1.0     ISR            False  29.0   \n",
       "4     True                                 0.0     ISR            False  33.0   \n",
       "\n",
       "   years_in_contract  churned  \n",
       "0           3.240370    False  \n",
       "1           2.121320    False  \n",
       "2           3.240370    False  \n",
       "3           3.240370    False  \n",
       "4           3.082207    False  "
      ]
     },
     "execution_count": 2,
     "metadata": {},
     "output_type": "execute_result"
    }
   ],
   "source": [
    "churn_history_matrix = pd.read_csv('features_churn_matrix_ex1.csv')\n",
    "churn_history_matrix.head()"
   ]
  },
  {
   "cell_type": "code",
   "execution_count": 3,
   "metadata": {
    "ExecuteTime": {
     "end_time": "2019-08-03T17:08:32.886025Z",
     "start_time": "2019-08-03T17:08:32.768882Z"
    }
   },
   "outputs": [
    {
     "data": {
      "text/plain": [
       "GRE    25075\n",
       "ISR    24925\n",
       "Name: country, dtype: int64"
      ]
     },
     "execution_count": 3,
     "metadata": {},
     "output_type": "execute_result"
    }
   ],
   "source": [
    "churn_history_matrix[\"country\"].value_counts()"
   ]
  },
  {
   "cell_type": "code",
   "execution_count": 4,
   "metadata": {
    "ExecuteTime": {
     "end_time": "2019-08-03T17:08:33.075523Z",
     "start_time": "2019-08-03T17:08:32.906823Z"
    }
   },
   "outputs": [
    {
     "data": {
      "text/plain": [
       "True     25015\n",
       "False    24985\n",
       "Name: is_male, dtype: int64"
      ]
     },
     "execution_count": 4,
     "metadata": {},
     "output_type": "execute_result"
    }
   ],
   "source": [
    "churn_history_matrix[\"is_male\"].value_counts()"
   ]
  },
  {
   "cell_type": "code",
   "execution_count": 5,
   "metadata": {
    "ExecuteTime": {
     "end_time": "2019-08-03T17:08:33.132497Z",
     "start_time": "2019-08-03T17:08:33.080244Z"
    }
   },
   "outputs": [
    {
     "data": {
      "text/plain": [
       "False    45059\n",
       "True      4941\n",
       "Name: late_on_payment, dtype: int64"
      ]
     },
     "execution_count": 5,
     "metadata": {},
     "output_type": "execute_result"
    }
   ],
   "source": [
    "churn_history_matrix[\"late_on_payment\"].value_counts()"
   ]
  },
  {
   "cell_type": "code",
   "execution_count": 6,
   "metadata": {
    "ExecuteTime": {
     "end_time": "2019-08-03T17:08:33.153320Z",
     "start_time": "2019-08-03T17:08:33.137334Z"
    }
   },
   "outputs": [
    {
     "data": {
      "text/plain": [
       "False    41954\n",
       "True      8046\n",
       "Name: churned, dtype: int64"
      ]
     },
     "execution_count": 6,
     "metadata": {},
     "output_type": "execute_result"
    }
   ],
   "source": [
    "churn_history_matrix[\"churned\"].value_counts()"
   ]
  },
  {
   "cell_type": "code",
   "execution_count": 7,
   "metadata": {
    "ExecuteTime": {
     "end_time": "2019-08-03T17:08:33.174801Z",
     "start_time": "2019-08-03T17:08:33.156918Z"
    }
   },
   "outputs": [
    {
     "data": {
      "text/plain": [
       "1.0     23635\n",
       "0.0     23344\n",
       "4.0      2930\n",
       "9.0        90\n",
       "16.0        1\n",
       "Name: num_interactions_with_cust_service, dtype: int64"
      ]
     },
     "execution_count": 7,
     "metadata": {},
     "output_type": "execute_result"
    }
   ],
   "source": [
    "churn_history_matrix[\"num_interactions_with_cust_service\"].value_counts()"
   ]
  },
  {
   "cell_type": "code",
   "execution_count": 8,
   "metadata": {
    "ExecuteTime": {
     "end_time": "2019-08-03T17:08:33.200781Z",
     "start_time": "2019-08-03T17:08:33.181588Z"
    }
   },
   "outputs": [],
   "source": [
    "churn_history_matrix[\"Label\"] = np.where(churn_history_matrix[\"churned\"], 1, 0)"
   ]
  },
  {
   "cell_type": "code",
   "execution_count": 9,
   "metadata": {
    "ExecuteTime": {
     "end_time": "2019-08-03T17:08:33.225095Z",
     "start_time": "2019-08-03T17:08:33.207170Z"
    }
   },
   "outputs": [],
   "source": [
    "churn_history_matrix[\"country\"] = np.where(churn_history_matrix[\"country\"] == \"ISR\", 1, 0)"
   ]
  },
  {
   "cell_type": "code",
   "execution_count": 10,
   "metadata": {
    "ExecuteTime": {
     "end_time": "2019-08-03T17:08:33.237026Z",
     "start_time": "2019-08-03T17:08:33.226871Z"
    }
   },
   "outputs": [],
   "source": [
    "churn_history_matrix[\"is_male\"] = np.where(churn_history_matrix[\"is_male\"], 1, 0)"
   ]
  },
  {
   "cell_type": "code",
   "execution_count": 11,
   "metadata": {
    "ExecuteTime": {
     "end_time": "2019-08-03T17:08:33.292257Z",
     "start_time": "2019-08-03T17:08:33.240223Z"
    }
   },
   "outputs": [],
   "source": [
    "churn_history_matrix[\"late_on_payment\"] = np.where(churn_history_matrix[\"late_on_payment\"], 1, 0)"
   ]
  },
  {
   "cell_type": "code",
   "execution_count": 12,
   "metadata": {
    "ExecuteTime": {
     "end_time": "2019-08-03T17:08:33.357509Z",
     "start_time": "2019-08-03T17:08:33.294409Z"
    }
   },
   "outputs": [],
   "source": [
    "X = churn_history_matrix.drop([\"Label\", \"churned\"], axis = 1)"
   ]
  },
  {
   "cell_type": "code",
   "execution_count": 13,
   "metadata": {
    "ExecuteTime": {
     "end_time": "2019-08-03T17:08:33.374021Z",
     "start_time": "2019-08-03T17:08:33.365773Z"
    }
   },
   "outputs": [],
   "source": [
    "y = churn_history_matrix[\"Label\"]"
   ]
  },
  {
   "cell_type": "markdown",
   "metadata": {},
   "source": [
    "## 1A\n",
    "\n",
    "Train a model to predict the likelihood of churning.\n",
    "\n",
    "**Make sure to create a train/test split (with 20% test data).**"
   ]
  },
  {
   "cell_type": "code",
   "execution_count": 14,
   "metadata": {
    "ExecuteTime": {
     "end_time": "2019-08-03T17:08:33.455555Z",
     "start_time": "2019-08-03T17:08:33.383765Z"
    }
   },
   "outputs": [],
   "source": [
    "X_train, X_test, y_train, y_test = train_test_split(X, y, test_size=0.2)"
   ]
  },
  {
   "cell_type": "code",
   "execution_count": 15,
   "metadata": {
    "ExecuteTime": {
     "end_time": "2019-08-03T17:08:35.305871Z",
     "start_time": "2019-08-03T17:08:33.457898Z"
    }
   },
   "outputs": [
    {
     "name": "stderr",
     "output_type": "stream",
     "text": [
      "/Users/Yohan/Desktop/anaconda3/lib/python3.7/site-packages/ipykernel_launcher.py:6: SettingWithCopyWarning: \n",
      "A value is trying to be set on a copy of a slice from a DataFrame.\n",
      "Try using .loc[row_indexer,col_indexer] = value instead\n",
      "\n",
      "See the caveats in the documentation: http://pandas.pydata.org/pandas-docs/stable/indexing.html#indexing-view-versus-copy\n",
      "  \n",
      "/Users/Yohan/Desktop/anaconda3/lib/python3.7/site-packages/pandas/core/indexing.py:543: SettingWithCopyWarning: \n",
      "A value is trying to be set on a copy of a slice from a DataFrame.\n",
      "Try using .loc[row_indexer,col_indexer] = value instead\n",
      "\n",
      "See the caveats in the documentation: http://pandas.pydata.org/pandas-docs/stable/indexing.html#indexing-view-versus-copy\n",
      "  self.obj[item] = s\n",
      "/Users/Yohan/Desktop/anaconda3/lib/python3.7/site-packages/ipykernel_launcher.py:7: SettingWithCopyWarning: \n",
      "A value is trying to be set on a copy of a slice from a DataFrame.\n",
      "Try using .loc[row_indexer,col_indexer] = value instead\n",
      "\n",
      "See the caveats in the documentation: http://pandas.pydata.org/pandas-docs/stable/indexing.html#indexing-view-versus-copy\n",
      "  import sys\n",
      "/Users/Yohan/Desktop/anaconda3/lib/python3.7/site-packages/pandas/core/indexing.py:543: SettingWithCopyWarning: \n",
      "A value is trying to be set on a copy of a slice from a DataFrame.\n",
      "Try using .loc[row_indexer,col_indexer] = value instead\n",
      "\n",
      "See the caveats in the documentation: http://pandas.pydata.org/pandas-docs/stable/indexing.html#indexing-view-versus-copy\n",
      "  self.obj[item] = s\n"
     ]
    }
   ],
   "source": [
    "from sklearn.preprocessing import MinMaxScaler\n",
    "norm_features = ['num_interactions_with_cust_service', 'age', 'years_in_contract']\n",
    "mm_scaler = MinMaxScaler()\n",
    "\n",
    "mm_scaler.fit(X_train[norm_features])\n",
    "X_train[norm_features] = mm_scaler.transform(X_train[norm_features])\n",
    "X_test[norm_features] = mm_scaler.transform(X_test[norm_features ])"
   ]
  },
  {
   "cell_type": "code",
   "execution_count": 16,
   "metadata": {
    "ExecuteTime": {
     "end_time": "2019-08-03T17:08:36.039904Z",
     "start_time": "2019-08-03T17:08:35.310347Z"
    }
   },
   "outputs": [],
   "source": [
    "clf = LogisticRegression(random_state=0, solver='lbfgs', multi_class='multinomial').fit(X_train, y_train)"
   ]
  },
  {
   "cell_type": "code",
   "execution_count": 17,
   "metadata": {
    "ExecuteTime": {
     "end_time": "2019-08-03T17:08:36.053798Z",
     "start_time": "2019-08-03T17:08:36.042928Z"
    }
   },
   "outputs": [],
   "source": [
    "y_pred = clf.predict(X_test)"
   ]
  },
  {
   "cell_type": "markdown",
   "metadata": {},
   "source": [
    "## 1B\n",
    "Print the confusion matrix"
   ]
  },
  {
   "cell_type": "code",
   "execution_count": 18,
   "metadata": {
    "ExecuteTime": {
     "end_time": "2019-08-03T17:08:36.553373Z",
     "start_time": "2019-08-03T17:08:36.056569Z"
    }
   },
   "outputs": [
    {
     "data": {
      "image/png": "[encoded data removed]",
      "text/plain": [
       "<Figure size 720x504 with 2 Axes>"
      ]
     },
     "metadata": {
      "needs_background": "light"
     },
     "output_type": "display_data"
    }
   ],
   "source": [
    "plt.figure(figsize=(10,7));\n",
    "cm = confusion_matrix(y_test, y_pred);\n",
    "ax = sns.heatmap(cm, annot=True, fmt=\"d\");\n",
    "plt.ylabel('True label');\n",
    "plt.xlabel('Predicted label');"
   ]
  },
  {
   "cell_type": "markdown",
   "metadata": {},
   "source": [
    "## 1C\n",
    "What are the accuracy, ROC-AUC, and average precision of your model?"
   ]
  },
  {
   "cell_type": "code",
   "execution_count": 104,
   "metadata": {
    "ExecuteTime": {
     "end_time": "2019-08-03T19:43:52.535494Z",
     "start_time": "2019-08-03T19:43:52.416632Z"
    }
   },
   "outputs": [
    {
     "name": "stdout",
     "output_type": "stream",
     "text": [
      "model accuracy: 0.8491\n",
      "model average precision: 0.4321174314729532\n",
      "model ROC-AUC: 0.5640130361376289\n"
     ]
    }
   ],
   "source": [
    "from sklearn.metrics import average_precision_score\n",
    "from sklearn.metrics import roc_auc_score\n",
    "\n",
    "model_accuracy = clf.score(X_test, y_test)\n",
    "model_precision = average_precision_score(y_test, y_probs[:,1], average='macro') \n",
    "model_roc_auc = roc_auc_score(y_test, y_pred, average='macro') \n",
    "print(\"model accuracy: {}\".format(model_accuracy))\n",
    "print(\"model average precision: {}\".format(model_precision))\n",
    "print(\"model ROC-AUC: {}\".format(model_roc_auc))"
   ]
  },
  {
   "cell_type": "markdown",
   "metadata": {},
   "source": [
    "## 1D\n",
    "Display the AUC-ROC Curve and the PR Curve"
   ]
  },
  {
   "cell_type": "code",
   "execution_count": 31,
   "metadata": {
    "ExecuteTime": {
     "end_time": "2019-08-03T18:56:53.241850Z",
     "start_time": "2019-08-03T18:56:52.825865Z"
    }
   },
   "outputs": [],
   "source": [
    "from sklearn.metrics import roc_curve, auc\n",
    "\n",
    "y_probs = clf.predict_proba(X_test)\n",
    "fpr, tpr, thresholds = roc_curve(y_test, y_probs[:, 1])\n",
    "roc_auc = auc(fpr, tpr)"
   ]
  },
  {
   "cell_type": "code",
   "execution_count": 21,
   "metadata": {
    "ExecuteTime": {
     "end_time": "2019-08-03T17:08:37.003354Z",
     "start_time": "2019-08-03T17:08:36.618339Z"
    }
   },
   "outputs": [
    {
     "data": {
      "image/png": "[encoded data removed]",
      "text/plain": [
       "<Figure size 432x288 with 1 Axes>"
      ]
     },
     "metadata": {
      "needs_background": "light"
     },
     "output_type": "display_data"
    }
   ],
   "source": [
    "plt.title(\"AUC-ROC curve of Churning Model\")\n",
    "plt.xlabel(\"FPR\")\n",
    "plt.ylabel(\"TPR\")\n",
    "plt.plot(fpr, tpr, color='darkorange', lw=2, label='ROC curve (area = %0.2f)' % roc_auc)\n",
    "plt.plot([0, 1], [0, 1], label = \"Random guess\", color='navy', lw=2, linestyle='--')\n",
    "plt.legend(loc=\"lower right\")\n",
    "plt.xlim([0.0, 1.0])\n",
    "plt.ylim([0.0, 1.05])\n",
    "plt.show()"
   ]
  },
  {
   "cell_type": "code",
   "execution_count": 22,
   "metadata": {
    "ExecuteTime": {
     "end_time": "2019-08-03T17:08:37.020567Z",
     "start_time": "2019-08-03T17:08:37.007023Z"
    }
   },
   "outputs": [],
   "source": [
    "from sklearn.metrics import precision_recall_curve\n",
    "precision, recall, thresholds = precision_recall_curve(y_test, y_probs[:, 1])"
   ]
  },
  {
   "cell_type": "code",
   "execution_count": 23,
   "metadata": {
    "ExecuteTime": {
     "end_time": "2019-08-03T17:08:37.626409Z",
     "start_time": "2019-08-03T17:08:37.043065Z"
    }
   },
   "outputs": [
    {
     "data": {
      "image/png": "[encoded data removed]",
      "text/plain": [
       "<Figure size 432x288 with 1 Axes>"
      ]
     },
     "metadata": {
      "needs_background": "light"
     },
     "output_type": "display_data"
    }
   ],
   "source": [
    "plt.plot(recall,precision);\n",
    "plt.title(\"PR curve of Churning Model\");\n",
    "plt.xlabel(\"Recall\");\n",
    "plt.ylabel(\"Precision\");"
   ]
  },
  {
   "cell_type": "markdown",
   "metadata": {},
   "source": [
    "## 1E\n",
    "What is the precision at the 0.1 recall level?"
   ]
  },
  {
   "cell_type": "code",
   "execution_count": 24,
   "metadata": {
    "ExecuteTime": {
     "end_time": "2019-08-03T17:08:37.681989Z",
     "start_time": "2019-08-03T17:08:37.633674Z"
    }
   },
   "outputs": [],
   "source": [
    "recall_lower = max(recall[recall<0.1])\n",
    "recall_higher = min(recall[recall>=0.1])\n",
    "precision_lower = precision[recall==recall_lower][0]\n",
    "precision_higher = precision[recall==recall_higher][0]"
   ]
  },
  {
   "cell_type": "code",
   "execution_count": 25,
   "metadata": {
    "ExecuteTime": {
     "end_time": "2019-08-03T17:08:37.693235Z",
     "start_time": "2019-08-03T17:08:37.685587Z"
    }
   },
   "outputs": [
    {
     "name": "stdout",
     "output_type": "stream",
     "text": [
      "Precision at Recall=0.1: 0.6251529315807636\n"
     ]
    }
   ],
   "source": [
    "from scipy import interp\n",
    "precision_wanted = interp(0.1, [recall_lower, recall_higher], [precision_lower, precision_higher])\n",
    "print(\"Precision at Recall=0.1: {}\".format(precision_wanted))"
   ]
  },
  {
   "cell_type": "markdown",
   "metadata": {},
   "source": [
    "## 1F\n",
    "How would you describe the accuracy of your model to your boss in 1 minute?\n",
    "Please write down a sentence or two explaining why you picked that metric."
   ]
  },
  {
   "cell_type": "markdown",
   "metadata": {},
   "source": [
    "The Accuracy metric can be largely contributed by a large number of TN which in most business circumstances, we do not focus on much, whereas False Negative and False Positive usually has business costs (tangible & intangible). In our case I expect a high number of Actual Negatives because usually not that many people want to churn out of a contract unless it is a terrible business model or some event happens which leads to a high churn rate. Thus F1 Score is a better measure to use than Accuracy since we need to seek a balance between Precision and Recall AND there is an uneven class distribution (large number of Actual Negatives). We also have no context yet to minimize False Positives vs False Negatives, so We cannot choose Precision or Recall.\n",
    "\n",
    "Therefore I would show him how high my F1 score is to sell how good my model is."
   ]
  },
  {
   "cell_type": "markdown",
   "metadata": {},
   "source": [
    "## 1G\n",
    "The Director of Marketing wants this model because they want to give a discount voucher to customers that are at risk of leaving. Previous research has concluced that giving these vouchers to the 5% of customers that are at most risk of churn is optimal. \n",
    "\n",
    "How would you present your metric with this new information? How would you explain to the Director of Marketing that your model can help in this campaign?\n",
    "\n",
    "Please write down one sentence describing why you picked this metric."
   ]
  },
  {
   "cell_type": "markdown",
   "metadata": {},
   "source": [
    "This would mean that I would need to minimize the false positive rate because I do not want to give vouchers to people that will not churn. This changes the whole problem. I would choose precision and would show to my boss that it has a high precision which would give him confidence to hand out the vouchers while minimizing the amount of money lost handing out vouchers to people that would not have churned. "
   ]
  },
  {
   "cell_type": "code",
   "execution_count": 86,
   "metadata": {
    "ExecuteTime": {
     "end_time": "2019-08-03T19:32:27.515864Z",
     "start_time": "2019-08-03T19:32:27.478764Z"
    }
   },
   "outputs": [],
   "source": [
    "voucher_qty = int(len(y_probs)*0.05)\n",
    "voucher_cutoff = np.partition(y_probs[:,1], -voucher_qty)[-voucher_qty]"
   ]
  },
  {
   "cell_type": "code",
   "execution_count": 92,
   "metadata": {
    "ExecuteTime": {
     "end_time": "2019-08-03T19:34:15.674429Z",
     "start_time": "2019-08-03T19:34:15.669479Z"
    }
   },
   "outputs": [],
   "source": [
    "y_pred_vouch = np.where(y_probs[:,1]>=voucher_cutoff, 1, 0)"
   ]
  },
  {
   "cell_type": "code",
   "execution_count": 105,
   "metadata": {
    "ExecuteTime": {
     "end_time": "2019-08-03T19:55:22.586552Z",
     "start_time": "2019-08-03T19:55:22.461530Z"
    }
   },
   "outputs": [
    {
     "name": "stdout",
     "output_type": "stream",
     "text": [
      "Dear Boss, 0.7125372373476019 of the vouchers would be given to people that will churn. This is very good precision.\n"
     ]
    }
   ],
   "source": [
    "from sklearn.metrics import precision_score\n",
    "voucher_precision = precision_score(y_test, y_pred_vouch, average='macro') \n",
    "print(\"Dear Boss, {} of the vouchers would be given to people that will churn. This is very good precision.\".format(voucher_precision))"
   ]
  },
  {
   "cell_type": "markdown",
   "metadata": {},
   "source": [
    "## 1H\n",
    "The CFO just heard that you have this awesome new model trained and ready to roll!  Sadly, she couldn't care less about those coupons.\n",
    "\n",
    "Instead, she would like to accurately predict the probabily that each customer will be churning so that the Finance team can accurately calculate revenue projections across many cohorts of users.\n",
    "\n",
    "How would you present your metric with this new information? How would you explain to the CFO that your model can help in this campaign? Please write down one sentence describing why you picked this metric."
   ]
  },
  {
   "cell_type": "markdown",
   "metadata": {},
   "source": [
    "The goal here is to accurately predict the revenue so we would need to use the Accuracy metric as there is no need here to focus on false negatives or false positives. We are only interested in getting as close as possible to the revenue projection.\n",
    "\n",
    "Therefore I would present to the CFO how high my Accuracy is.\n",
    "\n",
    "NOTE: From another perspective, that of overestimating the churn rate to be on the safe side in projecting revenues, then the Recall may be a better metric here. In this type of business it is better to be safe than sorry and capture more actual positives even at the cost of some false positives. This way we do not have any shortcomings at the end of the year after overestimating revenue projections. We are better off underestimating them."
   ]
  }
 ],
 "metadata": {
  "kernelspec": {
   "display_name": "Python 3",
   "language": "python",
   "name": "python3"
  },
  "language_info": {
   "codemirror_mode": {
    "name": "ipython",
    "version": 3
   },
   "file_extension": ".py",
   "mimetype": "text/x-python",
   "name": "python",
   "nbconvert_exporter": "python",
   "pygments_lexer": "ipython3",
   "version": "3.7.3"
  },
  "latex_envs": {
   "LaTeX_envs_menu_present": true,
   "autoclose": false,
   "autocomplete": true,
   "bibliofile": "biblio.bib",
   "cite_by": "apalike",
   "current_citInitial": 1,
   "eqLabelWithNumbers": true,
   "eqNumInitial": 1,
   "hotkeys": {
    "equation": "Ctrl-E",
    "itemize": "Ctrl-I"
   },
   "labels_anchors": false,
   "latex_user_defs": false,
   "report_style_numbering": false,
   "user_envs_cfg": false
  },
  "nbTranslate": {
   "displayLangs": [
    "*"
   ],
   "hotkey": "alt-t",
   "langInMainMenu": true,
   "sourceLang": "en",
   "targetLang": "fr",
   "useGoogleTranslate": true
  },
  "toc": {
   "base_numbering": 1,
   "nav_menu": {},
   "number_sections": true,
   "sideBar": true,
   "skip_h1_title": false,
   "title_cell": "Table of Contents",
   "title_sidebar": "Contents",
   "toc_cell": false,
   "toc_position": {},
   "toc_section_display": true,
   "toc_window_display": false
  },
  "varInspector": {
   "cols": {
    "lenName": 16,
    "lenType": 16,
    "lenVar": 40
   },
   "kernels_config": {
    "python": {
     "delete_cmd_postfix": "",
     "delete_cmd_prefix": "del ",
     "library": "var_list.py",
     "varRefreshCmd": "print(var_dic_list())"
    },
    "r": {
     "delete_cmd_postfix": ") ",
     "delete_cmd_prefix": "rm(",
     "library": "var_list.r",
     "varRefreshCmd": "cat(var_dic_list()) "
    }
   },
   "types_to_exclude": [
    "module",
    "function",
    "builtin_function_or_method",
    "instance",
    "_Feature"
   ],
   "window_display": false
  }
 },
 "nbformat": 4,
 "nbformat_minor": 2
}
