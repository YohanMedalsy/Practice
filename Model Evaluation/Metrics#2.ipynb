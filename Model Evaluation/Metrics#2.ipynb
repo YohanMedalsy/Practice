{
 "cells": [
  {
   "cell_type": "code",
   "execution_count": 1,
   "metadata": {
    "ExecuteTime": {
     "end_time": "2019-08-08T16:39:51.789391Z",
     "start_time": "2019-08-08T16:38:21.732021Z"
    }
   },
   "outputs": [],
   "source": [
    "import pandas as pd\n",
    "import sklearn\n",
    "from sklearn.model_selection import train_test_split\n",
    "import matplotlib.pyplot as plt\n",
    "%matplotlib inline\n",
    "from sklearn.linear_model import LogisticRegression\n",
    "from sklearn.metrics import confusion_matrix\n",
    "import seaborn as sns\n",
    "import numpy as np"
   ]
  },
  {
   "cell_type": "markdown",
   "metadata": {},
   "source": [
    "# Exercise 2:\n",
    "\n",
    "Consider a hospital that needs to prioritize which patients to take in. They have the following dataset of past patients that came into their ER feeling ill. This dataset includes the outcomes in the absence of further treatment as well as other information known about the patient.\n",
    "\n",
    "In the past the hospital did not have a cardiology department. However, they just received a new grant from the Ministry of Health to establish a cardiology department (as part of the government's initiative to bring AI to hospitals). Create a model that predicts whether, without treatment, a patient will die in the next six months."
   ]
  },
  {
   "cell_type": "code",
   "execution_count": 2,
   "metadata": {
    "ExecuteTime": {
     "end_time": "2019-08-08T16:39:53.066804Z",
     "start_time": "2019-08-08T16:39:51.885966Z"
    }
   },
   "outputs": [
    {
     "data": {
      "text/html": [
       "<div>\n",
       "<style scoped>\n",
       "    .dataframe tbody tr th:only-of-type {\n",
       "        vertical-align: middle;\n",
       "    }\n",
       "\n",
       "    .dataframe tbody tr th {\n",
       "        vertical-align: top;\n",
       "    }\n",
       "\n",
       "    .dataframe thead th {\n",
       "        text-align: right;\n",
       "    }\n",
       "</style>\n",
       "<table border=\"1\" class=\"dataframe\">\n",
       "  <thead>\n",
       "    <tr style=\"text-align: right;\">\n",
       "      <th></th>\n",
       "      <th>is_male</th>\n",
       "      <th>num_prev_internations</th>\n",
       "      <th>has_genetic_marker_1</th>\n",
       "      <th>has_genetic_marker_2</th>\n",
       "      <th>age</th>\n",
       "      <th>BMI</th>\n",
       "      <th>history_family_of_heart_disease</th>\n",
       "      <th>died_within_6_months</th>\n",
       "    </tr>\n",
       "  </thead>\n",
       "  <tbody>\n",
       "    <tr>\n",
       "      <th>0</th>\n",
       "      <td>False</td>\n",
       "      <td>1.0</td>\n",
       "      <td>False</td>\n",
       "      <td>True</td>\n",
       "      <td>52.0</td>\n",
       "      <td>32.0</td>\n",
       "      <td>False</td>\n",
       "      <td>False</td>\n",
       "    </tr>\n",
       "    <tr>\n",
       "      <th>1</th>\n",
       "      <td>True</td>\n",
       "      <td>0.0</td>\n",
       "      <td>False</td>\n",
       "      <td>False</td>\n",
       "      <td>58.0</td>\n",
       "      <td>27.0</td>\n",
       "      <td>False</td>\n",
       "      <td>True</td>\n",
       "    </tr>\n",
       "    <tr>\n",
       "      <th>2</th>\n",
       "      <td>True</td>\n",
       "      <td>1.0</td>\n",
       "      <td>False</td>\n",
       "      <td>True</td>\n",
       "      <td>61.0</td>\n",
       "      <td>31.0</td>\n",
       "      <td>True</td>\n",
       "      <td>False</td>\n",
       "    </tr>\n",
       "    <tr>\n",
       "      <th>3</th>\n",
       "      <td>True</td>\n",
       "      <td>0.0</td>\n",
       "      <td>False</td>\n",
       "      <td>True</td>\n",
       "      <td>55.0</td>\n",
       "      <td>31.0</td>\n",
       "      <td>True</td>\n",
       "      <td>False</td>\n",
       "    </tr>\n",
       "    <tr>\n",
       "      <th>4</th>\n",
       "      <td>True</td>\n",
       "      <td>2.0</td>\n",
       "      <td>False</td>\n",
       "      <td>True</td>\n",
       "      <td>62.0</td>\n",
       "      <td>21.0</td>\n",
       "      <td>False</td>\n",
       "      <td>False</td>\n",
       "    </tr>\n",
       "  </tbody>\n",
       "</table>\n",
       "</div>"
      ],
      "text/plain": [
       "   is_male  num_prev_internations  has_genetic_marker_1  has_genetic_marker_2  \\\n",
       "0    False                    1.0                 False                  True   \n",
       "1     True                    0.0                 False                 False   \n",
       "2     True                    1.0                 False                  True   \n",
       "3     True                    0.0                 False                  True   \n",
       "4     True                    2.0                 False                  True   \n",
       "\n",
       "    age   BMI  history_family_of_heart_disease  died_within_6_months  \n",
       "0  52.0  32.0                            False                 False  \n",
       "1  58.0  27.0                            False                  True  \n",
       "2  61.0  31.0                             True                 False  \n",
       "3  55.0  31.0                             True                 False  \n",
       "4  62.0  21.0                            False                 False  "
      ]
     },
     "execution_count": 2,
     "metadata": {},
     "output_type": "execute_result"
    }
   ],
   "source": [
    "survival_history_matrix = pd.read_csv('features_churn_matrix_ex2.csv')\n",
    "survival_history_matrix.head()"
   ]
  },
  {
   "cell_type": "code",
   "execution_count": 3,
   "metadata": {
    "ExecuteTime": {
     "end_time": "2019-08-08T16:39:53.128713Z",
     "start_time": "2019-08-08T16:39:53.071784Z"
    }
   },
   "outputs": [],
   "source": [
    "survival_history_matrix[\"Label\"] = np.where(survival_history_matrix[\"died_within_6_months\"], 1, 0)\n",
    "survival_history_matrix[\"has_genetic_marker_1\"] = np.where(survival_history_matrix[\"has_genetic_marker_1\"], 1, 0)\n",
    "survival_history_matrix[\"has_genetic_marker_2\"] = np.where(survival_history_matrix[\"has_genetic_marker_2\"], 1, 0)\n",
    "survival_history_matrix[\"is_male\"] = np.where(survival_history_matrix[\"is_male\"], 1, 0)\n",
    "survival_history_matrix[\"history_family_of_heart_disease\"] = np.where(survival_history_matrix[\"history_family_of_heart_disease\"], 1, 0)"
   ]
  },
  {
   "cell_type": "code",
   "execution_count": 4,
   "metadata": {
    "ExecuteTime": {
     "end_time": "2019-08-08T16:39:53.462659Z",
     "start_time": "2019-08-08T16:39:53.307062Z"
    }
   },
   "outputs": [],
   "source": [
    "X = survival_history_matrix.drop([\"Label\", \"died_within_6_months\"], axis = 1)\n",
    "y = survival_history_matrix[\"Label\"]"
   ]
  },
  {
   "cell_type": "code",
   "execution_count": 5,
   "metadata": {
    "ExecuteTime": {
     "end_time": "2019-08-08T16:39:53.572285Z",
     "start_time": "2019-08-08T16:39:53.553582Z"
    }
   },
   "outputs": [
    {
     "data": {
      "text/plain": [
       "0    171371\n",
       "1     28629\n",
       "Name: Label, dtype: int64"
      ]
     },
     "execution_count": 5,
     "metadata": {},
     "output_type": "execute_result"
    }
   ],
   "source": [
    "y.value_counts()"
   ]
  },
  {
   "cell_type": "markdown",
   "metadata": {},
   "source": [
    "This is an imbalanced dataset."
   ]
  },
  {
   "cell_type": "code",
   "execution_count": 6,
   "metadata": {
    "ExecuteTime": {
     "end_time": "2019-08-08T16:39:53.943429Z",
     "start_time": "2019-08-08T16:39:53.729397Z"
    }
   },
   "outputs": [],
   "source": [
    "X_train, X_test, y_train, y_test = train_test_split(X, y, test_size=0.2)"
   ]
  },
  {
   "cell_type": "code",
   "execution_count": 7,
   "metadata": {
    "ExecuteTime": {
     "end_time": "2019-08-08T16:39:57.878255Z",
     "start_time": "2019-08-08T16:39:55.514999Z"
    }
   },
   "outputs": [
    {
     "name": "stderr",
     "output_type": "stream",
     "text": [
      "/Users/Yohan/Desktop/anaconda3/lib/python3.7/site-packages/ipykernel_launcher.py:6: SettingWithCopyWarning: \n",
      "A value is trying to be set on a copy of a slice from a DataFrame.\n",
      "Try using .loc[row_indexer,col_indexer] = value instead\n",
      "\n",
      "See the caveats in the documentation: http://pandas.pydata.org/pandas-docs/stable/indexing.html#indexing-view-versus-copy\n",
      "  \n",
      "/Users/Yohan/Desktop/anaconda3/lib/python3.7/site-packages/pandas/core/indexing.py:543: SettingWithCopyWarning: \n",
      "A value is trying to be set on a copy of a slice from a DataFrame.\n",
      "Try using .loc[row_indexer,col_indexer] = value instead\n",
      "\n",
      "See the caveats in the documentation: http://pandas.pydata.org/pandas-docs/stable/indexing.html#indexing-view-versus-copy\n",
      "  self.obj[item] = s\n",
      "/Users/Yohan/Desktop/anaconda3/lib/python3.7/site-packages/ipykernel_launcher.py:7: SettingWithCopyWarning: \n",
      "A value is trying to be set on a copy of a slice from a DataFrame.\n",
      "Try using .loc[row_indexer,col_indexer] = value instead\n",
      "\n",
      "See the caveats in the documentation: http://pandas.pydata.org/pandas-docs/stable/indexing.html#indexing-view-versus-copy\n",
      "  import sys\n",
      "/Users/Yohan/Desktop/anaconda3/lib/python3.7/site-packages/pandas/core/indexing.py:543: SettingWithCopyWarning: \n",
      "A value is trying to be set on a copy of a slice from a DataFrame.\n",
      "Try using .loc[row_indexer,col_indexer] = value instead\n",
      "\n",
      "See the caveats in the documentation: http://pandas.pydata.org/pandas-docs/stable/indexing.html#indexing-view-versus-copy\n",
      "  self.obj[item] = s\n"
     ]
    }
   ],
   "source": [
    "from sklearn.preprocessing import MinMaxScaler\n",
    "norm_features = ['num_prev_internations', 'age', 'BMI']\n",
    "mm_scaler = MinMaxScaler()\n",
    "\n",
    "mm_scaler.fit(X_train[norm_features])\n",
    "X_train[norm_features] = mm_scaler.transform(X_train[norm_features])\n",
    "X_test[norm_features] = mm_scaler.transform(X_test[norm_features ])"
   ]
  },
  {
   "cell_type": "code",
   "execution_count": 8,
   "metadata": {
    "ExecuteTime": {
     "end_time": "2019-08-08T16:39:59.375338Z",
     "start_time": "2019-08-08T16:39:57.995231Z"
    }
   },
   "outputs": [],
   "source": [
    "clf = LogisticRegression(random_state=0, solver='lbfgs', multi_class='multinomial').fit(X_train, y_train)\n",
    "y_probs = clf.predict_proba(X_test)"
   ]
  },
  {
   "cell_type": "markdown",
   "metadata": {},
   "source": [
    "## 2A\n",
    "What's the accuracy and average precision of your model?"
   ]
  },
  {
   "cell_type": "code",
   "execution_count": 9,
   "metadata": {
    "ExecuteTime": {
     "end_time": "2019-08-08T16:39:59.528129Z",
     "start_time": "2019-08-08T16:39:59.490581Z"
    }
   },
   "outputs": [
    {
     "name": "stdout",
     "output_type": "stream",
     "text": [
      "model accuracy: 0.856475\n",
      "model average precision: 0.22557436893469615\n"
     ]
    }
   ],
   "source": [
    "from sklearn.metrics import average_precision_score\n",
    "\n",
    "model_accuracy = clf.score(X_test, y_test)\n",
    "model_precision = average_precision_score(y_test, y_probs[:,1], average='macro') \n",
    "print(\"model accuracy: {}\".format(model_accuracy))\n",
    "print(\"model average precision: {}\".format(model_precision))"
   ]
  },
  {
   "cell_type": "markdown",
   "metadata": {},
   "source": [
    "## 2B\n",
    "\n",
    "A week into the project, you still don't really know what the Head of Department wants from this project and exactly how it will be used. How would you describe your progress and metrics about the model to the Head of Department in 1 minute.\n",
    "\n",
    "Please write down a sentence or two explaining why you picked that metric"
   ]
  },
  {
   "cell_type": "markdown",
   "metadata": {},
   "source": [
    "I would explain that my data has been cleaned and that I have already trained some initial models. Logically I would want to minimize my False Negatives using Recall because I feel that minimizing deaths is more important than \"wasting\" money bringing more people into the hospital than necessary. However, not knowing what is required of the project I would need to provide the F1 score of my model because in any case, for predicting mortality, it is very important to minimize both the False Negatives and False positives without knowing which one to favor. Furthermore the accuracy would not be as good a metric because it does not focus on these optimizations."
   ]
  },
  {
   "cell_type": "code",
   "execution_count": 10,
   "metadata": {
    "ExecuteTime": {
     "end_time": "2019-08-08T16:45:01.454917Z",
     "start_time": "2019-08-08T16:45:00.997543Z"
    }
   },
   "outputs": [
    {
     "name": "stderr",
     "output_type": "stream",
     "text": [
      "/Users/Yohan/Desktop/anaconda3/lib/python3.7/site-packages/sklearn/metrics/classification.py:1143: UndefinedMetricWarning: F-score is ill-defined and being set to 0.0 in labels with no predicted samples.\n",
      "  'precision', 'predicted', average, warn_for)\n"
     ]
    },
    {
     "data": {
      "text/plain": [
       "0.46134475282457343"
      ]
     },
     "execution_count": 10,
     "metadata": {},
     "output_type": "execute_result"
    }
   ],
   "source": [
    "from sklearn.metrics import f1_score\n",
    "y_pred = clf.predict(X_test)\n",
    "f1_score(y_test, y_pred, average='macro')"
   ]
  },
  {
   "cell_type": "markdown",
   "metadata": {},
   "source": [
    "## 2C\n",
    "\n",
    "Print the PR Curve"
   ]
  },
  {
   "cell_type": "code",
   "execution_count": 11,
   "metadata": {
    "ExecuteTime": {
     "end_time": "2019-08-08T16:46:50.777643Z",
     "start_time": "2019-08-08T16:46:50.556362Z"
    }
   },
   "outputs": [],
   "source": [
    "from sklearn.metrics import precision_recall_curve\n",
    "y_probs = clf.predict_proba(X_test)\n",
    "precision, recall, thresholds = precision_recall_curve(y_test, y_probs[:, 1])"
   ]
  },
  {
   "cell_type": "code",
   "execution_count": 12,
   "metadata": {
    "ExecuteTime": {
     "end_time": "2019-08-08T16:46:54.124662Z",
     "start_time": "2019-08-08T16:46:53.169207Z"
    }
   },
   "outputs": [
    {
     "data": {
      "image/png": "[encoded data removed]",
      "text/plain": [
       "<Figure size 432x288 with 1 Axes>"
      ]
     },
     "metadata": {
      "needs_background": "light"
     },
     "output_type": "display_data"
    }
   ],
   "source": [
    "recall_non_zero = recall[recall>=0.01]\n",
    "precision_non_zero = precision[recall>=0.01]\n",
    "plt.plot(recall_non_zero,precision_non_zero);\n",
    "plt.title(\"PR curve of Survival Model\");\n",
    "plt.xlabel(\"Recall\");\n",
    "plt.ylabel(\"Precision\");"
   ]
  },
  {
   "cell_type": "markdown",
   "metadata": {},
   "source": [
    "## 2D\n",
    "\n",
    "Your Head of Department finally clarifies, and says that your model will be used take in anyone who has over 30% chance of death in the next 6 months, for a checkup  with the doctor (The other 70% will just be schedule to have see a doctor in the near future.). How would you justify your model now? \n",
    "\n",
    "Please write down a sentence or two explaining why you picked that metric"
   ]
  },
  {
   "cell_type": "markdown",
   "metadata": {},
   "source": [
    "Here we want to make sure to save as many lives as possible so we will use recall to minimize false negatives which is sending people to the doctor that need to be taken in. Sending someone to the doctor that will die in the next 6 months is a big failure (False Negative)"
   ]
  },
  {
   "cell_type": "code",
   "execution_count": 13,
   "metadata": {
    "ExecuteTime": {
     "end_time": "2019-08-08T16:47:01.005169Z",
     "start_time": "2019-08-08T16:47:00.998956Z"
    }
   },
   "outputs": [],
   "source": [
    "TAKEIN_CUTOFF = 0.3\n",
    "y_pred_takein = np.where(y_probs[:,1]>=TAKEIN_CUTOFF, 1, 0)"
   ]
  },
  {
   "cell_type": "code",
   "execution_count": 23,
   "metadata": {
    "ExecuteTime": {
     "end_time": "2019-08-08T17:10:15.885576Z",
     "start_time": "2019-08-08T17:10:15.515948Z"
    }
   },
   "outputs": [
    {
     "name": "stdout",
     "output_type": "stream",
     "text": [
      "Dear Boss, 0.5131542526502024 of the people that will die in the next 6 months would be taken into the hospital.\n"
     ]
    }
   ],
   "source": [
    "from sklearn.metrics import recall_score\n",
    "takein_precision = recall_score(y_test, y_pred_takein, average='macro') \n",
    "print(\"Dear Boss, {} of the people that will die in the next 6 months would be taken into the hospital.\".format(takein_precision))"
   ]
  },
  {
   "cell_type": "markdown",
   "metadata": {},
   "source": [
    "## 2E\n",
    "\n",
    "A couple of months in, the Head of Department also remembers that the new grant includes a clause specifying that the contract will be cancelled if the Hospital doesn't abide by the following: \"For the patients over 60 , 3% of them (the ones with least probability of death in the next six months) should not be referred to a doctor.\"\n",
    "\n",
    "How would you say that your model helps the hospital in abiding by this rule?\n",
    "\n",
    "Please write down a sentence or two explaining why you picked that metric"
   ]
  },
  {
   "cell_type": "markdown",
   "metadata": {
    "ExecuteTime": {
     "end_time": "2019-08-03T22:45:40.386477Z",
     "start_time": "2019-08-03T22:45:40.375277Z"
    }
   },
   "source": [
    "To minimize the deaths (the goal of a hospital), we would need to make sure that the 3% that are not sent to a doctor have nothing to worry about and will survive the next 6 months. This means that we want to minimize false negatives while looking at the proportion of true negatives being caputured . So we would use negative predictive value which is TN/(TN + FN). It tells us what proportion of the people we don't send actually won't die in the next 6 months."
   ]
  },
  {
   "cell_type": "code",
   "execution_count": 15,
   "metadata": {
    "ExecuteTime": {
     "end_time": "2019-08-08T16:47:05.188047Z",
     "start_time": "2019-08-08T16:47:04.957190Z"
    }
   },
   "outputs": [],
   "source": [
    "age60_indices = survival_history_matrix[survival_history_matrix[\"age\"]>=60].index"
   ]
  },
  {
   "cell_type": "code",
   "execution_count": 17,
   "metadata": {
    "ExecuteTime": {
     "end_time": "2019-08-08T16:47:06.822254Z",
     "start_time": "2019-08-08T16:47:06.814940Z"
    }
   },
   "outputs": [],
   "source": [
    "X_test_indices = X_test['age'].index"
   ]
  },
  {
   "cell_type": "code",
   "execution_count": 18,
   "metadata": {
    "ExecuteTime": {
     "end_time": "2019-08-08T16:47:07.491171Z",
     "start_time": "2019-08-08T16:47:07.240374Z"
    }
   },
   "outputs": [],
   "source": [
    "age_60_probs = np.array([y_probs[:,1][i] for i in range(len(y_probs)) if X_test_indices[i] in age60_indices])"
   ]
  },
  {
   "cell_type": "code",
   "execution_count": 19,
   "metadata": {
    "ExecuteTime": {
     "end_time": "2019-08-08T16:47:08.709846Z",
     "start_time": "2019-08-08T16:47:07.623098Z"
    }
   },
   "outputs": [],
   "source": [
    "age_60_y = np.array([y_test.iloc[i] for i in range(y_test.shape[0]) if X_test_indices[i] in age60_indices])"
   ]
  },
  {
   "cell_type": "code",
   "execution_count": 20,
   "metadata": {
    "ExecuteTime": {
     "end_time": "2019-08-08T16:47:09.237182Z",
     "start_time": "2019-08-08T16:47:09.167454Z"
    }
   },
   "outputs": [],
   "source": [
    "doc_qty = int(len(age_60_probs)*0.97)\n",
    "doc_cutoff = np.partition(age_60_probs, -doc_qty)[-doc_qty]"
   ]
  },
  {
   "cell_type": "code",
   "execution_count": 21,
   "metadata": {
    "ExecuteTime": {
     "end_time": "2019-08-08T16:47:09.906385Z",
     "start_time": "2019-08-08T16:47:09.810701Z"
    }
   },
   "outputs": [],
   "source": [
    "y_pred_doc = np.where(age_60_probs>=doc_cutoff, 1, 0)"
   ]
  },
  {
   "cell_type": "code",
   "execution_count": 22,
   "metadata": {
    "ExecuteTime": {
     "end_time": "2019-08-08T16:47:17.536828Z",
     "start_time": "2019-08-08T16:47:11.538149Z"
    }
   },
   "outputs": [
    {
     "name": "stdout",
     "output_type": "stream",
     "text": [
      "population: 21646\n",
      "P: 3095\n",
      "N: 18551\n",
      "PositiveTest: 20997\n",
      "NegativeTest: 649\n",
      "TP: 3082\n",
      "TN: 636\n",
      "FP: 17915\n",
      "FN: 13\n",
      "TPR: 0.9957996768982229\n",
      "TNR: 0.034283866098862595\n",
      "PPV: 0.14678287374386817\n",
      "NPV: 0.9799691833590138\n",
      "FPR: 0.9657161339011374\n",
      "FDR: 0.8532171262561318\n",
      "FNR: 0.00420032310177706\n",
      "ACC: 0.1717638362746004\n",
      "F1_score: 0.2558525651668604\n",
      "MCC: 0.06175071626972106\n",
      "informedness: 0.0300835429970856\n",
      "markedness: 0.12675205710288195\n",
      "prevalence: 0.14298253718931905\n",
      "LRP: 1.0311515381601415\n",
      "LRN: 0.12251602808343748\n",
      "DOR: 8.416462354279826\n",
      "FOR: 0.020030816640986132\n"
     ]
    }
   ],
   "source": [
    "from pandas_ml import ConfusionMatrix\n",
    "cm = ConfusionMatrix(age_60_y, y_pred_doc)\n",
    "cm.print_stats()"
   ]
  },
  {
   "cell_type": "markdown",
   "metadata": {
    "ExecuteTime": {
     "end_time": "2019-08-04T12:52:41.653061Z",
     "start_time": "2019-08-04T12:52:16.524489Z"
    }
   },
   "source": [
    "We can see from the above report that 98% (NPV) of the 3% that would not be sent to see a doctor would survive the next 6 months. This is a very high proportion which I could show to the department."
   ]
  }
 ],
 "metadata": {
  "kernelspec": {
   "display_name": "Python 3",
   "language": "python",
   "name": "python3"
  },
  "language_info": {
   "codemirror_mode": {
    "name": "ipython",
    "version": 3
   },
   "file_extension": ".py",
   "mimetype": "text/x-python",
   "name": "python",
   "nbconvert_exporter": "python",
   "pygments_lexer": "ipython3",
   "version": "3.7.3"
  },
  "latex_envs": {
   "LaTeX_envs_menu_present": true,
   "autoclose": false,
   "autocomplete": true,
   "bibliofile": "biblio.bib",
   "cite_by": "apalike",
   "current_citInitial": 1,
   "eqLabelWithNumbers": true,
   "eqNumInitial": 1,
   "hotkeys": {
    "equation": "Ctrl-E",
    "itemize": "Ctrl-I"
   },
   "labels_anchors": false,
   "latex_user_defs": false,
   "report_style_numbering": false,
   "user_envs_cfg": false
  },
  "nbTranslate": {
   "displayLangs": [
    "*"
   ],
   "hotkey": "alt-t",
   "langInMainMenu": true,
   "sourceLang": "en",
   "targetLang": "fr",
   "useGoogleTranslate": true
  },
  "toc": {
   "base_numbering": 1,
   "nav_menu": {},
   "number_sections": true,
   "sideBar": true,
   "skip_h1_title": false,
   "title_cell": "Table of Contents",
   "title_sidebar": "Contents",
   "toc_cell": false,
   "toc_position": {},
   "toc_section_display": true,
   "toc_window_display": false
  },
  "varInspector": {
   "cols": {
    "lenName": 16,
    "lenType": 16,
    "lenVar": 40
   },
   "kernels_config": {
    "python": {
     "delete_cmd_postfix": "",
     "delete_cmd_prefix": "del ",
     "library": "var_list.py",
     "varRefreshCmd": "print(var_dic_list())"
    },
    "r": {
     "delete_cmd_postfix": ") ",
     "delete_cmd_prefix": "rm(",
     "library": "var_list.r",
     "varRefreshCmd": "cat(var_dic_list()) "
    }
   },
   "types_to_exclude": [
    "module",
    "function",
    "builtin_function_or_method",
    "instance",
    "_Feature"
   ],
   "window_display": false
  }
 },
 "nbformat": 4,
 "nbformat_minor": 2
}
